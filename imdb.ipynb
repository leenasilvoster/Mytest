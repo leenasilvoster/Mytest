{
  "nbformat": 4,
  "nbformat_minor": 0,
  "metadata": {
    "colab": {
      "name": "imdb.ipynb",
      "provenance": [],
      "collapsed_sections": [],
      "authorship_tag": "ABX9TyO1+fJjOmxSDj/yCK3SOnDw",
      "include_colab_link": true
    },
    "kernelspec": {
      "name": "python3",
      "display_name": "Python 3"
    },
    "language_info": {
      "name": "python"
    },
    "accelerator": "TPU"
  },
  "cells": [
    {
      "cell_type": "markdown",
      "metadata": {
        "id": "view-in-github",
        "colab_type": "text"
      },
      "source": [
        "<a href=\"https://colab.research.google.com/github/leenasilvoster/Mytest/blob/master/imdb.ipynb\" target=\"_parent\"><img src=\"https://colab.research.google.com/assets/colab-badge.svg\" alt=\"Open In Colab\"/></a>"
      ]
    },
    {
      "cell_type": "code",
      "metadata": {
        "id": "z_SyRmzfSTgy"
      },
      "source": [
        "from keras.datasets import imdb\n",
        "from keras import optimizers\n",
        "from keras import losses\n",
        "from keras import metrics\n",
        "import matplotlib.pyplot as plt"
      ],
      "execution_count": null,
      "outputs": []
    },
    {
      "cell_type": "code",
      "metadata": {
        "id": "SBfEDii8SuqA"
      },
      "source": [
        "import numpy as np"
      ],
      "execution_count": null,
      "outputs": []
    },
    {
      "cell_type": "code",
      "metadata": {
        "colab": {
          "base_uri": "https://localhost:8080/"
        },
        "id": "rwVImx98SmO1",
        "outputId": "20c9b177-bb03-4b95-a9ed-a9ff4eb59832"
      },
      "source": [
        "(train_data, train_labels), (test_data, test_labels) = imdb.load_data(\n",
        "num_words=10000)\n"
      ],
      "execution_count": null,
      "outputs": [
        {
          "output_type": "stream",
          "text": [
            "Downloading data from https://storage.googleapis.com/tensorflow/tf-keras-datasets/imdb.npz\n",
            "17465344/17464789 [==============================] - 0s 0us/step\n",
            "17473536/17464789 [==============================] - 0s 0us/step\n"
          ],
          "name": "stdout"
        },
        {
          "output_type": "stream",
          "text": [
            "<string>:6: VisibleDeprecationWarning: Creating an ndarray from ragged nested sequences (which is a list-or-tuple of lists-or-tuples-or ndarrays with different lengths or shapes) is deprecated. If you meant to do this, you must specify 'dtype=object' when creating the ndarray\n",
            "/usr/local/lib/python3.7/dist-packages/keras/datasets/imdb.py:155: VisibleDeprecationWarning: Creating an ndarray from ragged nested sequences (which is a list-or-tuple of lists-or-tuples-or ndarrays with different lengths or shapes) is deprecated. If you meant to do this, you must specify 'dtype=object' when creating the ndarray\n",
            "  x_train, y_train = np.array(xs[:idx]), np.array(labels[:idx])\n",
            "/usr/local/lib/python3.7/dist-packages/keras/datasets/imdb.py:156: VisibleDeprecationWarning: Creating an ndarray from ragged nested sequences (which is a list-or-tuple of lists-or-tuples-or ndarrays with different lengths or shapes) is deprecated. If you meant to do this, you must specify 'dtype=object' when creating the ndarray\n",
            "  x_test, y_test = np.array(xs[idx:]), np.array(labels[idx:])\n"
          ],
          "name": "stderr"
        }
      ]
    },
    {
      "cell_type": "code",
      "metadata": {
        "id": "AQT3-XV6Sh4X"
      },
      "source": [
        "train_data[0]"
      ],
      "execution_count": null,
      "outputs": []
    },
    {
      "cell_type": "code",
      "metadata": {
        "colab": {
          "base_uri": "https://localhost:8080/"
        },
        "id": "K163mQDaSyAC",
        "outputId": "77b9531d-79c5-4a5d-cdd2-ff9c2798149c"
      },
      "source": [
        "train_labels[0]"
      ],
      "execution_count": null,
      "outputs": [
        {
          "output_type": "execute_result",
          "data": {
            "text/plain": [
              "1"
            ]
          },
          "metadata": {
            "tags": []
          },
          "execution_count": 46
        }
      ]
    },
    {
      "cell_type": "code",
      "metadata": {
        "colab": {
          "base_uri": "https://localhost:8080/"
        },
        "id": "1doNmSSM80Y9",
        "outputId": "4b00773f-d355-4a8e-cec3-2bdedc5f689c"
      },
      "source": [
        "print(np.unique(train_labels))"
      ],
      "execution_count": null,
      "outputs": [
        {
          "output_type": "stream",
          "text": [
            "[0 1]\n"
          ],
          "name": "stdout"
        }
      ]
    },
    {
      "cell_type": "code",
      "metadata": {
        "colab": {
          "base_uri": "https://localhost:8080/"
        },
        "id": "I-HvhQp4S44y",
        "outputId": "24e72319-00d0-4dd2-b572-496e14057eca"
      },
      "source": [
        "max([max(sequence) for sequence in train_data])"
      ],
      "execution_count": null,
      "outputs": [
        {
          "output_type": "execute_result",
          "data": {
            "text/plain": [
              "9999"
            ]
          },
          "metadata": {
            "tags": []
          },
          "execution_count": 5
        }
      ]
    },
    {
      "cell_type": "code",
      "metadata": {
        "colab": {
          "base_uri": "https://localhost:8080/"
        },
        "id": "BP1WCG4HS9Y9",
        "outputId": "5ca7981d-3695-45fc-fdc7-98b7f3579b47"
      },
      "source": [
        "word_index = imdb.get_word_index()\n",
        "reverse_word_index = dict(\n",
        "[(value, key) for (key, value) in word_index.items()])\n",
        "decoded_review = ' '.join(\n",
        "[reverse_word_index.get(i - 3, '?') for i in train_data[0]])"
      ],
      "execution_count": null,
      "outputs": [
        {
          "output_type": "stream",
          "text": [
            "Downloading data from https://storage.googleapis.com/tensorflow/tf-keras-datasets/imdb_word_index.json\n",
            "1646592/1641221 [==============================] - 0s 0us/step\n",
            "1654784/1641221 [==============================] - 0s 0us/step\n"
          ],
          "name": "stdout"
        }
      ]
    },
    {
      "cell_type": "code",
      "metadata": {
        "id": "w0SonJ_wS_2d"
      },
      "source": [
        "def vectorize_sequences(sequences, dimension=10000):\n",
        "  results = np.zeros((len(sequences), dimension))\n",
        "  for i, sequence in enumerate(sequences):\n",
        "    results[i, sequence] = 1.\n",
        "  return results\n",
        "x_train = vectorize_sequences(train_data)\n",
        "x_test = vectorize_sequences(test_data)"
      ],
      "execution_count": null,
      "outputs": []
    },
    {
      "cell_type": "code",
      "metadata": {
        "colab": {
          "base_uri": "https://localhost:8080/"
        },
        "id": "rGFIJUOhTUlm",
        "outputId": "cda62a1a-521a-4710-dea4-85fad260ac04"
      },
      "source": [
        "x_train[0]"
      ],
      "execution_count": null,
      "outputs": [
        {
          "output_type": "execute_result",
          "data": {
            "text/plain": [
              "array([0., 1., 1., ..., 0., 0., 0.])"
            ]
          },
          "metadata": {
            "tags": []
          },
          "execution_count": 7
        }
      ]
    },
    {
      "cell_type": "code",
      "metadata": {
        "id": "NCEJPgmdTeFt"
      },
      "source": [
        "y_train = np.asarray(train_labels).astype('float32')\n",
        "y_test = np.asarray(test_labels).astype('float32')"
      ],
      "execution_count": null,
      "outputs": []
    },
    {
      "cell_type": "code",
      "metadata": {
        "id": "86zyJFsYh5Jn"
      },
      "source": [
        "def recall(y_true, y_pred):\n",
        "    y_true = K.ones_like(y_true) \n",
        "    true_positives = K.sum(K.round(K.clip(y_true * y_pred, 0, 1)))\n",
        "    all_positives = K.sum(K.round(K.clip(y_true, 0, 1)))\n",
        "    \n",
        "    recall = true_positives / (all_positives + K.epsilon())\n",
        "    return recall\n",
        "\n",
        "def precision(y_true, y_pred):\n",
        "    y_true = K.ones_like(y_true) \n",
        "    true_positives = K.sum(K.round(K.clip(y_true * y_pred, 0, 1)))\n",
        "    \n",
        "    predicted_positives = K.sum(K.round(K.clip(y_pred, 0, 1)))\n",
        "    precision = true_positives / (predicted_positives + K.epsilon())\n",
        "    return precision\n",
        "\n",
        "def f1_score(y_true, y_pred):\n",
        "    precision = precision_m(y_true, y_pred)\n",
        "    recall = recall_m(y_true, y_pred)\n",
        "    return 2*((precision*recall)/(precision+recall+K.epsilon()))"
      ],
      "execution_count": null,
      "outputs": []
    },
    {
      "cell_type": "code",
      "metadata": {
        "colab": {
          "base_uri": "https://localhost:8080/"
        },
        "id": "_gloAx5oRc9G",
        "outputId": "2327f9a7-5387-4c49-db6e-3c14b06ec18f"
      },
      "source": [
        "from keras import models\n",
        "from keras import layers\n",
        "from sklearn.model_selection import StratifiedKFold\n",
        "from sklearn.metrics import confusion_matrix, ConfusionMatrixDisplay\n",
        "from keras.callbacks import ModelCheckpoint, EarlyStopping\n",
        "# define 10-fold cross validation test harness\n",
        "kfold = StratifiedKFold(n_splits=3, shuffle=True, random_state=7)\n",
        "cvscores = []\n",
        "#checkpoint = ModelCheckpoint(filepath,monitor='val_acc', verbose=1,save_best_only=True,mode='max',save_weights_only=True)\n",
        "#callbacks_list =[checkpoint]\n",
        "model_checkpoint = ModelCheckpoint(filepath=\"mymodel_{epoch}\", monitor='val_acc',mode='max',verbose=1, save_best_only=True)\n",
        "earlystopper = EarlyStopping(monitor='val_loss', min_delta=1e-2, patience=15, verbose=1, mode='auto', baseline=None, \n",
        "                             restore_best_weights=False)\n",
        "for train, test in kfold.split(x_train, y_train):\n",
        "  #create a model\n",
        "  model = models.Sequential()\n",
        "  model.add(layers.Dense(16, activation='relu', input_shape=(10000,)))\n",
        "  model.add(layers.Dense(16, activation='relu'))\n",
        "  model.add(layers.Dense(1, activation='sigmoid'))\n",
        "  model.summary()\n",
        "  #Compiling the model\n",
        "  #model.compile(optimizer='rmsprop',loss='binary_crossentropy',metrics=['accuracy'])\n",
        "  model.compile(optimizer=optimizers.RMSprop(learning_rate=0.001),\n",
        "  loss=losses.binary_crossentropy,\n",
        "  metrics=['acc'])\n",
        "  history = model.fit(x_train,\n",
        "  y_train,\n",
        "  epochs=20,\n",
        "  batch_size=512,\n",
        "  callbacks=[model_checkpoint, earlystopper],\n",
        "  validation_split=0.2)\n",
        "  #model.fit(x_train, y_train, batch_size=64, validation_split=0.2, epochs=1)\n",
        "  # evaluate the model\n",
        "  scores = model.evaluate(x_test, y_test, verbose=0)\n",
        "  print(\"%s: %.2f%%\" % (model.metrics_names[1], scores[1]*100))\n",
        "  cvscores.append(scores[1] * 100)\n",
        "  print(\"%.2f%% (+/- %.2f%%)\" % (np.mean(cvscores), np.std(cvscores)))\n",
        "  pred = model.predict(x_test)\n",
        "  cm = confusion_matrix(y_test, np.rint(pred))"
      ],
      "execution_count": null,
      "outputs": [
        {
          "output_type": "stream",
          "text": [
            "Model: \"sequential\"\n",
            "_________________________________________________________________\n",
            "Layer (type)                 Output Shape              Param #   \n",
            "=================================================================\n",
            "dense (Dense)                (None, 16)                160016    \n",
            "_________________________________________________________________\n",
            "dense_1 (Dense)              (None, 16)                272       \n",
            "_________________________________________________________________\n",
            "dense_2 (Dense)              (None, 1)                 17        \n",
            "=================================================================\n",
            "Total params: 160,305\n",
            "Trainable params: 160,305\n",
            "Non-trainable params: 0\n",
            "_________________________________________________________________\n",
            "Epoch 1/20\n",
            "40/40 [==============================] - 17s 46ms/step - loss: 0.5602 - acc: 0.7231 - val_loss: 0.3364 - val_acc: 0.8762\n",
            "\n",
            "Epoch 00001: val_acc improved from -inf to 0.87620, saving model to mymodel_1\n",
            "INFO:tensorflow:Assets written to: mymodel_1/assets\n",
            "Epoch 2/20\n",
            "40/40 [==============================] - 1s 30ms/step - loss: 0.2701 - acc: 0.9112 - val_loss: 0.2763 - val_acc: 0.8950\n",
            "\n",
            "Epoch 00002: val_acc improved from 0.87620 to 0.89500, saving model to mymodel_2\n",
            "INFO:tensorflow:Assets written to: mymodel_2/assets\n",
            "Epoch 3/20\n",
            "40/40 [==============================] - 1s 29ms/step - loss: 0.1952 - acc: 0.9354 - val_loss: 0.2908 - val_acc: 0.8860\n",
            "\n",
            "Epoch 00003: val_acc did not improve from 0.89500\n",
            "Epoch 4/20\n",
            "40/40 [==============================] - 1s 30ms/step - loss: 0.1594 - acc: 0.9483 - val_loss: 0.2991 - val_acc: 0.8864\n",
            "\n",
            "Epoch 00004: val_acc did not improve from 0.89500\n",
            "Epoch 5/20\n",
            "40/40 [==============================] - 1s 31ms/step - loss: 0.1300 - acc: 0.9589 - val_loss: 0.3167 - val_acc: 0.8854\n",
            "\n",
            "Epoch 00005: val_acc did not improve from 0.89500\n",
            "Epoch 6/20\n",
            "40/40 [==============================] - 1s 30ms/step - loss: 0.1084 - acc: 0.9658 - val_loss: 0.3664 - val_acc: 0.8720\n",
            "\n",
            "Epoch 00006: val_acc did not improve from 0.89500\n",
            "Epoch 7/20\n",
            "40/40 [==============================] - 1s 30ms/step - loss: 0.1056 - acc: 0.9638 - val_loss: 0.3620 - val_acc: 0.8766\n",
            "\n",
            "Epoch 00007: val_acc did not improve from 0.89500\n",
            "Epoch 8/20\n",
            "40/40 [==============================] - 1s 31ms/step - loss: 0.0828 - acc: 0.9746 - val_loss: 0.3636 - val_acc: 0.8806\n",
            "\n",
            "Epoch 00008: val_acc did not improve from 0.89500\n",
            "Epoch 9/20\n",
            "40/40 [==============================] - 1s 30ms/step - loss: 0.0697 - acc: 0.9805 - val_loss: 0.4032 - val_acc: 0.8802\n",
            "\n",
            "Epoch 00009: val_acc did not improve from 0.89500\n",
            "Epoch 10/20\n",
            "40/40 [==============================] - 1s 30ms/step - loss: 0.0590 - acc: 0.9831 - val_loss: 0.4267 - val_acc: 0.8768\n",
            "\n",
            "Epoch 00010: val_acc did not improve from 0.89500\n",
            "Epoch 11/20\n",
            "40/40 [==============================] - 1s 29ms/step - loss: 0.0536 - acc: 0.9840 - val_loss: 0.4794 - val_acc: 0.8716\n",
            "\n",
            "Epoch 00011: val_acc did not improve from 0.89500\n",
            "Epoch 12/20\n",
            "40/40 [==============================] - 1s 30ms/step - loss: 0.0485 - acc: 0.9877 - val_loss: 0.5186 - val_acc: 0.8682\n",
            "\n",
            "Epoch 00012: val_acc did not improve from 0.89500\n",
            "Epoch 13/20\n",
            "40/40 [==============================] - 1s 29ms/step - loss: 0.0372 - acc: 0.9901 - val_loss: 0.5231 - val_acc: 0.8750\n",
            "\n",
            "Epoch 00013: val_acc did not improve from 0.89500\n",
            "Epoch 14/20\n",
            "40/40 [==============================] - 1s 30ms/step - loss: 0.0313 - acc: 0.9924 - val_loss: 0.5553 - val_acc: 0.8706\n",
            "\n",
            "Epoch 00014: val_acc did not improve from 0.89500\n",
            "Epoch 15/20\n",
            "40/40 [==============================] - 1s 29ms/step - loss: 0.0243 - acc: 0.9944 - val_loss: 0.5914 - val_acc: 0.8706\n",
            "\n",
            "Epoch 00015: val_acc did not improve from 0.89500\n",
            "Epoch 16/20\n",
            "40/40 [==============================] - 1s 30ms/step - loss: 0.0196 - acc: 0.9963 - val_loss: 0.6182 - val_acc: 0.8698\n",
            "\n",
            "Epoch 00016: val_acc did not improve from 0.89500\n",
            "Epoch 17/20\n",
            "40/40 [==============================] - 1s 30ms/step - loss: 0.0159 - acc: 0.9968 - val_loss: 0.6612 - val_acc: 0.8710\n",
            "\n",
            "Epoch 00017: val_acc did not improve from 0.89500\n",
            "Epoch 00017: early stopping\n",
            "acc: 85.00%\n",
            "85.00% (+/- 0.00%)\n",
            "Model: \"sequential_1\"\n",
            "_________________________________________________________________\n",
            "Layer (type)                 Output Shape              Param #   \n",
            "=================================================================\n",
            "dense_3 (Dense)              (None, 16)                160016    \n",
            "_________________________________________________________________\n",
            "dense_4 (Dense)              (None, 16)                272       \n",
            "_________________________________________________________________\n",
            "dense_5 (Dense)              (None, 1)                 17        \n",
            "=================================================================\n",
            "Total params: 160,305\n",
            "Trainable params: 160,305\n",
            "Non-trainable params: 0\n",
            "_________________________________________________________________\n",
            "Epoch 1/20\n",
            "40/40 [==============================] - 2s 38ms/step - loss: 0.5825 - acc: 0.7247 - val_loss: 0.3718 - val_acc: 0.8758\n",
            "\n",
            "Epoch 00001: val_acc did not improve from 0.89500\n",
            "Epoch 2/20\n",
            "40/40 [==============================] - 1s 30ms/step - loss: 0.3118 - acc: 0.9038 - val_loss: 0.2903 - val_acc: 0.8920\n",
            "\n",
            "Epoch 00002: val_acc did not improve from 0.89500\n",
            "Epoch 3/20\n",
            "40/40 [==============================] - 1s 30ms/step - loss: 0.2233 - acc: 0.9258 - val_loss: 0.3080 - val_acc: 0.8782\n",
            "\n",
            "Epoch 00003: val_acc did not improve from 0.89500\n",
            "Epoch 4/20\n",
            "40/40 [==============================] - 1s 31ms/step - loss: 0.1765 - acc: 0.9414 - val_loss: 0.2704 - val_acc: 0.8946\n",
            "\n",
            "Epoch 00004: val_acc did not improve from 0.89500\n",
            "Epoch 5/20\n",
            "40/40 [==============================] - 1s 30ms/step - loss: 0.1431 - acc: 0.9533 - val_loss: 0.3433 - val_acc: 0.8706\n",
            "\n",
            "Epoch 00005: val_acc did not improve from 0.89500\n",
            "Epoch 6/20\n",
            "40/40 [==============================] - 1s 31ms/step - loss: 0.1293 - acc: 0.9569 - val_loss: 0.3065 - val_acc: 0.8874\n",
            "\n",
            "Epoch 00006: val_acc did not improve from 0.89500\n",
            "Epoch 7/20\n",
            "40/40 [==============================] - 1s 32ms/step - loss: 0.1037 - acc: 0.9680 - val_loss: 0.3143 - val_acc: 0.8908\n",
            "\n",
            "Epoch 00007: val_acc did not improve from 0.89500\n",
            "Epoch 8/20\n",
            "40/40 [==============================] - 1s 31ms/step - loss: 0.0877 - acc: 0.9724 - val_loss: 0.3379 - val_acc: 0.8886\n",
            "\n",
            "Epoch 00008: val_acc did not improve from 0.89500\n",
            "Epoch 9/20\n",
            "40/40 [==============================] - 1s 31ms/step - loss: 0.0786 - acc: 0.9750 - val_loss: 0.3857 - val_acc: 0.8790\n",
            "\n",
            "Epoch 00009: val_acc did not improve from 0.89500\n",
            "Epoch 10/20\n",
            "40/40 [==============================] - 1s 31ms/step - loss: 0.0652 - acc: 0.9828 - val_loss: 0.3919 - val_acc: 0.8796\n",
            "\n",
            "Epoch 00010: val_acc did not improve from 0.89500\n",
            "Epoch 11/20\n",
            "40/40 [==============================] - 1s 30ms/step - loss: 0.0548 - acc: 0.9860 - val_loss: 0.4777 - val_acc: 0.8670\n",
            "\n",
            "Epoch 00011: val_acc did not improve from 0.89500\n",
            "Epoch 12/20\n",
            "40/40 [==============================] - 1s 30ms/step - loss: 0.0499 - acc: 0.9872 - val_loss: 0.4530 - val_acc: 0.8762\n",
            "\n",
            "Epoch 00012: val_acc did not improve from 0.89500\n",
            "Epoch 13/20\n",
            "40/40 [==============================] - 1s 31ms/step - loss: 0.0406 - acc: 0.9900 - val_loss: 0.4899 - val_acc: 0.8728\n",
            "\n",
            "Epoch 00013: val_acc did not improve from 0.89500\n",
            "Epoch 14/20\n",
            "40/40 [==============================] - 1s 31ms/step - loss: 0.0333 - acc: 0.9926 - val_loss: 0.5161 - val_acc: 0.8720\n",
            "\n",
            "Epoch 00014: val_acc did not improve from 0.89500\n",
            "Epoch 15/20\n",
            "40/40 [==============================] - 1s 31ms/step - loss: 0.0285 - acc: 0.9939 - val_loss: 0.5935 - val_acc: 0.8656\n",
            "\n",
            "Epoch 00015: val_acc did not improve from 0.89500\n",
            "Epoch 16/20\n",
            "40/40 [==============================] - 1s 31ms/step - loss: 0.0243 - acc: 0.9950 - val_loss: 0.5984 - val_acc: 0.8678\n",
            "\n",
            "Epoch 00016: val_acc did not improve from 0.89500\n",
            "Epoch 17/20\n",
            "40/40 [==============================] - 1s 30ms/step - loss: 0.0202 - acc: 0.9961 - val_loss: 0.6243 - val_acc: 0.8666\n",
            "\n",
            "Epoch 00017: val_acc did not improve from 0.89500\n",
            "Epoch 18/20\n",
            "40/40 [==============================] - 1s 31ms/step - loss: 0.0148 - acc: 0.9976 - val_loss: 0.6591 - val_acc: 0.8682\n",
            "\n",
            "Epoch 00018: val_acc did not improve from 0.89500\n",
            "Epoch 19/20\n",
            "40/40 [==============================] - 1s 31ms/step - loss: 0.0110 - acc: 0.9981 - val_loss: 0.6952 - val_acc: 0.8660\n",
            "\n",
            "Epoch 00019: val_acc did not improve from 0.89500\n",
            "Epoch 00019: early stopping\n",
            "acc: 84.96%\n",
            "84.98% (+/- 0.02%)\n",
            "Model: \"sequential_2\"\n",
            "_________________________________________________________________\n",
            "Layer (type)                 Output Shape              Param #   \n",
            "=================================================================\n",
            "dense_6 (Dense)              (None, 16)                160016    \n",
            "_________________________________________________________________\n",
            "dense_7 (Dense)              (None, 16)                272       \n",
            "_________________________________________________________________\n",
            "dense_8 (Dense)              (None, 1)                 17        \n",
            "=================================================================\n",
            "Total params: 160,305\n",
            "Trainable params: 160,305\n",
            "Non-trainable params: 0\n",
            "_________________________________________________________________\n",
            "Epoch 1/20\n",
            "40/40 [==============================] - 2s 39ms/step - loss: 0.5774 - acc: 0.7315 - val_loss: 0.3600 - val_acc: 0.8790\n",
            "\n",
            "Epoch 00001: val_acc did not improve from 0.89500\n",
            "Epoch 2/20\n",
            "40/40 [==============================] - 1s 31ms/step - loss: 0.3043 - acc: 0.9064 - val_loss: 0.2913 - val_acc: 0.8900\n",
            "\n",
            "Epoch 00002: val_acc did not improve from 0.89500\n",
            "Epoch 3/20\n",
            "40/40 [==============================] - 1s 31ms/step - loss: 0.2156 - acc: 0.9261 - val_loss: 0.2863 - val_acc: 0.8874\n",
            "\n",
            "Epoch 00003: val_acc did not improve from 0.89500\n",
            "Epoch 4/20\n",
            "40/40 [==============================] - 1s 30ms/step - loss: 0.1741 - acc: 0.9427 - val_loss: 0.2753 - val_acc: 0.8894\n",
            "\n",
            "Epoch 00004: val_acc did not improve from 0.89500\n",
            "Epoch 5/20\n",
            "40/40 [==============================] - 1s 30ms/step - loss: 0.1388 - acc: 0.9555 - val_loss: 0.2846 - val_acc: 0.8888\n",
            "\n",
            "Epoch 00005: val_acc did not improve from 0.89500\n",
            "Epoch 6/20\n",
            "40/40 [==============================] - 1s 30ms/step - loss: 0.1196 - acc: 0.9621 - val_loss: 0.3025 - val_acc: 0.8858\n",
            "\n",
            "Epoch 00006: val_acc did not improve from 0.89500\n",
            "Epoch 7/20\n",
            "40/40 [==============================] - 1s 30ms/step - loss: 0.0969 - acc: 0.9726 - val_loss: 0.3312 - val_acc: 0.8810\n",
            "\n",
            "Epoch 00007: val_acc did not improve from 0.89500\n",
            "Epoch 8/20\n",
            "40/40 [==============================] - 1s 30ms/step - loss: 0.0828 - acc: 0.9758 - val_loss: 0.3569 - val_acc: 0.8848\n",
            "\n",
            "Epoch 00008: val_acc did not improve from 0.89500\n",
            "Epoch 9/20\n",
            "40/40 [==============================] - 1s 30ms/step - loss: 0.0663 - acc: 0.9814 - val_loss: 0.3770 - val_acc: 0.8776\n",
            "\n",
            "Epoch 00009: val_acc did not improve from 0.89500\n",
            "Epoch 10/20\n",
            "40/40 [==============================] - 1s 33ms/step - loss: 0.0562 - acc: 0.9849 - val_loss: 0.4095 - val_acc: 0.8780\n",
            "\n",
            "Epoch 00010: val_acc did not improve from 0.89500\n",
            "Epoch 11/20\n",
            "40/40 [==============================] - 1s 32ms/step - loss: 0.0468 - acc: 0.9875 - val_loss: 0.4420 - val_acc: 0.8734\n",
            "\n",
            "Epoch 00011: val_acc did not improve from 0.89500\n",
            "Epoch 12/20\n",
            "40/40 [==============================] - 1s 30ms/step - loss: 0.0407 - acc: 0.9896 - val_loss: 0.4723 - val_acc: 0.8722\n",
            "\n",
            "Epoch 00012: val_acc did not improve from 0.89500\n",
            "Epoch 13/20\n",
            "40/40 [==============================] - 1s 30ms/step - loss: 0.0302 - acc: 0.9939 - val_loss: 0.5013 - val_acc: 0.8718\n",
            "\n",
            "Epoch 00013: val_acc did not improve from 0.89500\n",
            "Epoch 14/20\n",
            "40/40 [==============================] - 1s 30ms/step - loss: 0.0257 - acc: 0.9952 - val_loss: 0.5381 - val_acc: 0.8710\n",
            "\n",
            "Epoch 00014: val_acc did not improve from 0.89500\n",
            "Epoch 15/20\n",
            "40/40 [==============================] - 1s 30ms/step - loss: 0.0218 - acc: 0.9960 - val_loss: 0.5715 - val_acc: 0.8694\n",
            "\n",
            "Epoch 00015: val_acc did not improve from 0.89500\n",
            "Epoch 16/20\n",
            "40/40 [==============================] - 1s 30ms/step - loss: 0.0160 - acc: 0.9968 - val_loss: 0.6293 - val_acc: 0.8692\n",
            "\n",
            "Epoch 00016: val_acc did not improve from 0.89500\n",
            "Epoch 17/20\n",
            "40/40 [==============================] - 1s 29ms/step - loss: 0.0134 - acc: 0.9978 - val_loss: 0.6893 - val_acc: 0.8698\n",
            "\n",
            "Epoch 00017: val_acc did not improve from 0.89500\n",
            "Epoch 18/20\n",
            "40/40 [==============================] - 1s 29ms/step - loss: 0.0127 - acc: 0.9975 - val_loss: 0.6837 - val_acc: 0.8672\n",
            "\n",
            "Epoch 00018: val_acc did not improve from 0.89500\n",
            "Epoch 19/20\n",
            "40/40 [==============================] - 1s 30ms/step - loss: 0.0072 - acc: 0.9991 - val_loss: 0.7347 - val_acc: 0.8660\n",
            "\n",
            "Epoch 00019: val_acc did not improve from 0.89500\n",
            "Epoch 00019: early stopping\n",
            "acc: 85.29%\n",
            "85.08% (+/- 0.15%)\n"
          ],
          "name": "stdout"
        }
      ]
    },
    {
      "cell_type": "code",
      "metadata": {
        "colab": {
          "base_uri": "https://localhost:8080/"
        },
        "id": "T_raKRHB13ox",
        "outputId": "1883c5c5-6f64-4d7a-c8de-5829382a3a91"
      },
      "source": [
        "from sklearn.metrics import f1_score, precision_score, recall_score, confusion_matrix\n",
        "from sklearn.metrics import classification_report\n",
        "y_pred = np.argmax(pred, axis=1)\n",
        "# Print f1, precision, and recall scores\n",
        "print(precision_score(y_test, y_pred , average=\"macro\"))\n",
        "print(recall_score(y_test, y_pred , average=\"macro\"))\n",
        "print(f1_score(y_test, y_pred , average=\"macro\"))\n",
        "print(classification_report(y_test, y_pred))"
      ],
      "execution_count": null,
      "outputs": [
        {
          "output_type": "stream",
          "text": [
            "0.25\n",
            "0.5\n",
            "0.3333333333333333\n",
            "              precision    recall  f1-score   support\n",
            "\n",
            "         0.0       0.50      1.00      0.67     12500\n",
            "         1.0       0.00      0.00      0.00     12500\n",
            "\n",
            "    accuracy                           0.50     25000\n",
            "   macro avg       0.25      0.50      0.33     25000\n",
            "weighted avg       0.25      0.50      0.33     25000\n",
            "\n"
          ],
          "name": "stdout"
        },
        {
          "output_type": "stream",
          "text": [
            "/usr/local/lib/python3.7/dist-packages/sklearn/metrics/_classification.py:1272: UndefinedMetricWarning: Precision is ill-defined and being set to 0.0 in labels with no predicted samples. Use `zero_division` parameter to control this behavior.\n",
            "  _warn_prf(average, modifier, msg_start, len(result))\n",
            "/usr/local/lib/python3.7/dist-packages/sklearn/metrics/_classification.py:1272: UndefinedMetricWarning: Precision and F-score are ill-defined and being set to 0.0 in labels with no predicted samples. Use `zero_division` parameter to control this behavior.\n",
            "  _warn_prf(average, modifier, msg_start, len(result))\n"
          ],
          "name": "stderr"
        }
      ]
    },
    {
      "cell_type": "code",
      "metadata": {
        "id": "sWx-WtVd38_d"
      },
      "source": [
        "from sklearn.metrics import roc_curve\n",
        "y_pred = model.predict(x_test).ravel()\n",
        "fpr_keras, tpr_keras, thresholds_keras = roc_curve(y_test, y_pred)"
      ],
      "execution_count": null,
      "outputs": []
    },
    {
      "cell_type": "code",
      "metadata": {
        "id": "H6PkpiZC4aLj"
      },
      "source": [
        "from sklearn.metrics import auc\n",
        "auc_keras = auc(fpr_keras, tpr_keras)"
      ],
      "execution_count": null,
      "outputs": []
    },
    {
      "cell_type": "code",
      "metadata": {
        "colab": {
          "base_uri": "https://localhost:8080/",
          "height": 573
        },
        "id": "YCUfBfui4VZa",
        "outputId": "19211e43-35a5-4dc0-a34a-f049495c3924"
      },
      "source": [
        "plt.figure(1)\n",
        "plt.plot([0, 1], [0, 1], 'k--')\n",
        "plt.plot(fpr_keras, tpr_keras, label='Keras (area = {:.3f})'.format(auc_keras))\n",
        "#plt.plot(fpr_rf, tpr_rf, label='RF (area = {:.3f})'.format(auc_rf))\n",
        "plt.xlabel('False positive rate')\n",
        "plt.ylabel('True positive rate')\n",
        "plt.title('ROC curve')\n",
        "plt.legend(loc='best')\n",
        "plt.show()\n",
        "# Zoom in view of the upper left corner.plt.figure(1)\n",
        "plt.xlim(0, 0.2)\n",
        "plt.ylim(0.8, 1)\n",
        "plt.plot([0, 1], [0, 1], 'k--')\n",
        "plt.plot(fpr_keras, tpr_keras, label='Keras (area = {:.3f})'.format(auc_keras))\n",
        "#plt.plot(fpr_rf, tpr_rf, label='RF (area = {:.3f})'.format(auc_rf))\n",
        "plt.xlabel('False positive rate')\n",
        "plt.ylabel('True positive rate')\n",
        "plt.title('ROC curve (zoomed in at top left)')\n",
        "plt.legend(loc='best')\n",
        "plt.show()"
      ],
      "execution_count": null,
      "outputs": [
        {
          "output_type": "display_data",
          "data": {
            "image/png": "[encoded data removed]",
            "text/plain": [
              "<Figure size 432x288 with 1 Axes>"
            ]
          },
          "metadata": {
            "tags": [],
            "needs_background": "light"
          }
        },
        {
          "output_type": "display_data",
          "data": {
            "image/png": "[encoded data removed]",
            "text/plain": [
              "<Figure size 432x288 with 1 Axes>"
            ]
          },
          "metadata": {
            "tags": [],
            "needs_background": "light"
          }
        }
      ]
    },
    {
      "cell_type": "code",
      "metadata": {
        "colab": {
          "base_uri": "https://localhost:8080/",
          "height": 244
        },
        "id": "ChZuVMjt9fy9",
        "outputId": "e93a3131-affe-455e-e162-8483c3b43906"
      },
      "source": [
        "n_classes = 2\n",
        "# Plot linewidth.\n",
        "lw = 2\n",
        "\n",
        "# Compute ROC curve and ROC area for each class\n",
        "fpr = dict()\n",
        "tpr = dict()\n",
        "roc_auc = dict()\n",
        "for i in range(n_classes):\n",
        "    fpr[i], tpr[i], _ = roc_curve(y_test[:, i], scores[:, i])\n",
        "    roc_auc[i] = auc(fpr[i], tpr[i])\n",
        "\n",
        "# Compute micro-average ROC curve and ROC area\n",
        "fpr[\"micro\"], tpr[\"micro\"], _ = roc_curve(y_test.ravel(), y_score.ravel())\n",
        "roc_auc[\"micro\"] = auc(fpr[\"micro\"], tpr[\"micro\"])\n",
        "\n",
        "# Compute macro-average ROC curve and ROC area\n",
        "\n",
        "# First aggregate all false positive rates\n",
        "all_fpr = np.unique(np.concatenate([fpr[i] for i in range(n_classes)]))\n",
        "\n",
        "# Then interpolate all ROC curves at this points\n",
        "mean_tpr = np.zeros_like(all_fpr)\n",
        "for i in range(n_classes):\n",
        "    mean_tpr += interp(all_fpr, fpr[i], tpr[i])\n",
        "\n",
        "# Finally average it and compute AUC\n",
        "mean_tpr /= n_classes\n",
        "\n",
        "fpr[\"macro\"] = all_fpr\n",
        "tpr[\"macro\"] = mean_tpr\n",
        "roc_auc[\"macro\"] = auc(fpr[\"macro\"], tpr[\"macro\"])\n",
        "\n",
        "# Plot all ROC curves\n",
        "plt.figure(1)\n",
        "plt.plot(fpr[\"micro\"], tpr[\"micro\"],\n",
        "         label='micro-average ROC curve (area = {0:0.2f})'\n",
        "               ''.format(roc_auc[\"micro\"]),\n",
        "         color='deeppink', linestyle=':', linewidth=4)\n",
        "\n",
        "plt.plot(fpr[\"macro\"], tpr[\"macro\"],\n",
        "         label='macro-average ROC curve (area = {0:0.2f})'\n",
        "               ''.format(roc_auc[\"macro\"]),\n",
        "         color='navy', linestyle=':', linewidth=4)\n",
        "\n",
        "colors = cycle(['aqua', 'darkorange', 'cornflowerblue'])\n",
        "for i, color in zip(range(n_classes), colors):\n",
        "    plt.plot(fpr[i], tpr[i], color=color, lw=lw,\n",
        "             label='ROC curve of class {0} (area = {1:0.2f})'\n",
        "             ''.format(i, roc_auc[i]))\n",
        "\n",
        "plt.plot([0, 1], [0, 1], 'k--', lw=lw)\n",
        "plt.xlim([0.0, 1.0])\n",
        "plt.ylim([0.0, 1.05])\n",
        "plt.xlabel('False Positive Rate')\n",
        "plt.ylabel('True Positive Rate')\n",
        "plt.title('Some extension of Receiver operating characteristic to multi-class')\n",
        "plt.legend(loc=\"lower right\")\n",
        "plt.show()\n",
        "\n",
        "\n",
        "# Zoom in view of the upper left corner.\n",
        "plt.figure(2)\n",
        "plt.xlim(0, 0.2)\n",
        "plt.ylim(0.8, 1)\n",
        "plt.plot(fpr[\"micro\"], tpr[\"micro\"],\n",
        "         label='micro-average ROC curve (area = {0:0.2f})'\n",
        "               ''.format(roc_auc[\"micro\"]),\n",
        "         color='deeppink', linestyle=':', linewidth=4)\n",
        "\n",
        "plt.plot(fpr[\"macro\"], tpr[\"macro\"],\n",
        "         label='macro-average ROC curve (area = {0:0.2f})'\n",
        "               ''.format(roc_auc[\"macro\"]),\n",
        "         color='navy', linestyle=':', linewidth=4)\n",
        "\n",
        "colors = cycle(['aqua', 'darkorange', 'cornflowerblue'])\n",
        "for i, color in zip(range(n_classes), colors):\n",
        "    plt.plot(fpr[i], tpr[i], color=color, lw=lw,\n",
        "             label='ROC curve of class {0} (area = {1:0.2f})'\n",
        "             ''.format(i, roc_auc[i]))\n",
        "\n",
        "plt.plot([0, 1], [0, 1], 'k--', lw=lw)\n",
        "plt.xlabel('False Positive Rate')\n",
        "plt.ylabel('True Positive Rate')\n",
        "plt.title('Some extension of Receiver operating characteristic to multi-class')\n",
        "plt.legend(loc=\"lower right\")\n",
        "plt.show()"
      ],
      "execution_count": null,
      "outputs": [
        {
          "output_type": "error",
          "ename": "IndexError",
          "evalue": "ignored",
          "traceback": [
            "\u001b[0;31m---------------------------------------------------------------------------\u001b[0m",
            "\u001b[0;31mIndexError\u001b[0m                                Traceback (most recent call last)",
            "\u001b[0;32m<ipython-input-17-0fc0768ded09>\u001b[0m in \u001b[0;36m<module>\u001b[0;34m()\u001b[0m\n\u001b[1;32m      8\u001b[0m \u001b[0mroc_auc\u001b[0m \u001b[0;34m=\u001b[0m \u001b[0mdict\u001b[0m\u001b[0;34m(\u001b[0m\u001b[0;34m)\u001b[0m\u001b[0;34m\u001b[0m\u001b[0;34m\u001b[0m\u001b[0m\n\u001b[1;32m      9\u001b[0m \u001b[0;32mfor\u001b[0m \u001b[0mi\u001b[0m \u001b[0;32min\u001b[0m \u001b[0mrange\u001b[0m\u001b[0;34m(\u001b[0m\u001b[0mn_classes\u001b[0m\u001b[0;34m)\u001b[0m\u001b[0;34m:\u001b[0m\u001b[0;34m\u001b[0m\u001b[0;34m\u001b[0m\u001b[0m\n\u001b[0;32m---> 10\u001b[0;31m     \u001b[0mfpr\u001b[0m\u001b[0;34m[\u001b[0m\u001b[0mi\u001b[0m\u001b[0;34m]\u001b[0m\u001b[0;34m,\u001b[0m \u001b[0mtpr\u001b[0m\u001b[0;34m[\u001b[0m\u001b[0mi\u001b[0m\u001b[0;34m]\u001b[0m\u001b[0;34m,\u001b[0m \u001b[0m_\u001b[0m \u001b[0;34m=\u001b[0m \u001b[0mroc_curve\u001b[0m\u001b[0;34m(\u001b[0m\u001b[0my_test\u001b[0m\u001b[0;34m[\u001b[0m\u001b[0;34m:\u001b[0m\u001b[0;34m,\u001b[0m \u001b[0mi\u001b[0m\u001b[0;34m]\u001b[0m\u001b[0;34m,\u001b[0m \u001b[0mscores\u001b[0m\u001b[0;34m[\u001b[0m\u001b[0;34m:\u001b[0m\u001b[0;34m,\u001b[0m \u001b[0mi\u001b[0m\u001b[0;34m]\u001b[0m\u001b[0;34m)\u001b[0m\u001b[0;34m\u001b[0m\u001b[0;34m\u001b[0m\u001b[0m\n\u001b[0m\u001b[1;32m     11\u001b[0m     \u001b[0mroc_auc\u001b[0m\u001b[0;34m[\u001b[0m\u001b[0mi\u001b[0m\u001b[0;34m]\u001b[0m \u001b[0;34m=\u001b[0m \u001b[0mauc\u001b[0m\u001b[0;34m(\u001b[0m\u001b[0mfpr\u001b[0m\u001b[0;34m[\u001b[0m\u001b[0mi\u001b[0m\u001b[0;34m]\u001b[0m\u001b[0;34m,\u001b[0m \u001b[0mtpr\u001b[0m\u001b[0;34m[\u001b[0m\u001b[0mi\u001b[0m\u001b[0;34m]\u001b[0m\u001b[0;34m)\u001b[0m\u001b[0;34m\u001b[0m\u001b[0;34m\u001b[0m\u001b[0m\n\u001b[1;32m     12\u001b[0m \u001b[0;34m\u001b[0m\u001b[0m\n",
            "\u001b[0;31mIndexError\u001b[0m: too many indices for array: array is 1-dimensional, but 2 were indexed"
          ]
        }
      ]
    },
    {
      "cell_type": "code",
      "metadata": {
        "colab": {
          "base_uri": "https://localhost:8080/",
          "height": 496
        },
        "id": "T1h-NRTt5ZZb",
        "outputId": "29d6f217-9e2b-41e8-d7d7-4354cd45612e"
      },
      "source": [
        "plt.figure(2)\n",
        "plt.xlim(0, 0.2)\n",
        "plt.ylim(0.8, 1)\n",
        "plt.plot(fpr_keras[\"micro\"], tpr_keras[\"micro\"],\n",
        "         label='micro-average ROC curve (area = {0:0.2f})'\n",
        "               ''.format(roc_auc[\"micro\"]),\n",
        "         color='deeppink', linestyle=':', linewidth=4)\n",
        "\n",
        "plt.plot(fpr[\"macro\"], tpr[\"macro\"],\n",
        "         label='macro-average ROC curve (area = {0:0.2f})'\n",
        "               ''.format(roc_auc[\"macro\"]),\n",
        "         color='navy', linestyle=':', linewidth=4)\n",
        "\n",
        "colors = cycle(['aqua', 'darkorange', 'cornflowerblue'])\n",
        "for i, color in zip(range(n_classes), colors):\n",
        "    plt.plot(fpr[i], tpr[i], color=color, lw=lw,\n",
        "             label='ROC curve of class {0} (area = {1:0.2f})'\n",
        "             ''.format(i, roc_auc[i]))\n",
        "\n",
        "plt.plot([0, 1], [0, 1], 'k--', lw=lw)\n",
        "plt.xlabel('False Positive Rate')\n",
        "plt.ylabel('True Positive Rate')\n",
        "plt.title('Some extension of Receiver operating characteristic to multi-class')\n",
        "plt.legend(loc=\"lower right\")\n",
        "plt.show()"
      ],
      "execution_count": null,
      "outputs": [
        {
          "output_type": "error",
          "ename": "IndexError",
          "evalue": "ignored",
          "traceback": [
            "\u001b[0;31m---------------------------------------------------------------------------\u001b[0m",
            "\u001b[0;31mIndexError\u001b[0m                                Traceback (most recent call last)",
            "\u001b[0;32m<ipython-input-36-589275e7625d>\u001b[0m in \u001b[0;36m<module>\u001b[0;34m()\u001b[0m\n\u001b[1;32m      2\u001b[0m \u001b[0mplt\u001b[0m\u001b[0;34m.\u001b[0m\u001b[0mxlim\u001b[0m\u001b[0;34m(\u001b[0m\u001b[0;36m0\u001b[0m\u001b[0;34m,\u001b[0m \u001b[0;36m0.2\u001b[0m\u001b[0;34m)\u001b[0m\u001b[0;34m\u001b[0m\u001b[0;34m\u001b[0m\u001b[0m\n\u001b[1;32m      3\u001b[0m \u001b[0mplt\u001b[0m\u001b[0;34m.\u001b[0m\u001b[0mylim\u001b[0m\u001b[0;34m(\u001b[0m\u001b[0;36m0.8\u001b[0m\u001b[0;34m,\u001b[0m \u001b[0;36m1\u001b[0m\u001b[0;34m)\u001b[0m\u001b[0;34m\u001b[0m\u001b[0;34m\u001b[0m\u001b[0m\n\u001b[0;32m----> 4\u001b[0;31m plt.plot(fpr_keras[\"micro\"], tpr_keras[\"micro\"],\n\u001b[0m\u001b[1;32m      5\u001b[0m          \u001b[0mlabel\u001b[0m\u001b[0;34m=\u001b[0m\u001b[0;34m'micro-average ROC curve (area = {0:0.2f})'\u001b[0m\u001b[0;34m\u001b[0m\u001b[0;34m\u001b[0m\u001b[0m\n\u001b[1;32m      6\u001b[0m                \u001b[0;34m''\u001b[0m\u001b[0;34m.\u001b[0m\u001b[0mformat\u001b[0m\u001b[0;34m(\u001b[0m\u001b[0mroc_auc\u001b[0m\u001b[0;34m[\u001b[0m\u001b[0;34m\"micro\"\u001b[0m\u001b[0;34m]\u001b[0m\u001b[0;34m)\u001b[0m\u001b[0;34m,\u001b[0m\u001b[0;34m\u001b[0m\u001b[0;34m\u001b[0m\u001b[0m\n",
            "\u001b[0;31mIndexError\u001b[0m: only integers, slices (`:`), ellipsis (`...`), numpy.newaxis (`None`) and integer or boolean arrays are valid indices"
          ]
        },
        {
          "output_type": "display_data",
          "data": {
            "image/png": "[encoded data removed]",
            "text/plain": [
              "<Figure size 432x288 with 1 Axes>"
            ]
          },
          "metadata": {
            "tags": [],
            "needs_background": "light"
          }
        }
      ]
    },
    {
      "cell_type": "code",
      "metadata": {
        "colab": {
          "base_uri": "https://localhost:8080/"
        },
        "id": "xde2Vu2fM96s",
        "outputId": "b9de649f-4b3d-4455-cc2e-c192ddddb9ef"
      },
      "source": [
        "scores"
      ],
      "execution_count": null,
      "outputs": [
        {
          "output_type": "execute_result",
          "data": {
            "text/plain": [
              "[0.6528936624526978, 0.8528000116348267]"
            ]
          },
          "metadata": {
            "tags": []
          },
          "execution_count": 12
        }
      ]
    },
    {
      "cell_type": "code",
      "metadata": {
        "colab": {
          "base_uri": "https://localhost:8080/"
        },
        "id": "_ROJbQ_Te-0-",
        "outputId": "1577214a-b56b-4eb4-9f1f-3161e70ffbee"
      },
      "source": [
        "print(\"Confusion Matrix is:\", + cm)"
      ],
      "execution_count": null,
      "outputs": [
        {
          "output_type": "stream",
          "text": [
            "Confusion Matrix is: [[10594  1906]\n",
            " [ 1774 10726]]\n"
          ],
          "name": "stdout"
        }
      ]
    },
    {
      "cell_type": "code",
      "metadata": {
        "colab": {
          "base_uri": "https://localhost:8080/"
        },
        "id": "w5CeCxytcjl2",
        "outputId": "ac067bf6-5bfd-4b30-956b-e357d87f0a98"
      },
      "source": [
        "pred\n",
        "y_test"
      ],
      "execution_count": null,
      "outputs": [
        {
          "output_type": "execute_result",
          "data": {
            "text/plain": [
              "array([0., 1., 1., ..., 0., 0., 0.], dtype=float32)"
            ]
          },
          "metadata": {
            "tags": []
          },
          "execution_count": 18
        }
      ]
    },
    {
      "cell_type": "code",
      "metadata": {
        "colab": {
          "base_uri": "https://localhost:8080/",
          "height": 376
        },
        "id": "UZY-Z_2tjS2X",
        "outputId": "5d8aa4e3-d815-4652-8167-4b5e0a1929df"
      },
      "source": [
        "from sklearn.metrics import confusion_matrix, ConfusionMatrixDisplay\n",
        "cm = confusion_matrix(y_test, pred)\n",
        "#cmd = ConfusionMatrixDisplay(cm, display_labels=['business','health'])\n",
        "#cmd.plot()"
      ],
      "execution_count": null,
      "outputs": [
        {
          "output_type": "error",
          "ename": "ValueError",
          "evalue": "ignored",
          "traceback": [
            "\u001b[0;31m---------------------------------------------------------------------------\u001b[0m",
            "\u001b[0;31mValueError\u001b[0m                                Traceback (most recent call last)",
            "\u001b[0;32m<ipython-input-16-3e04ce381809>\u001b[0m in \u001b[0;36m<module>\u001b[0;34m()\u001b[0m\n\u001b[1;32m      1\u001b[0m \u001b[0;32mfrom\u001b[0m \u001b[0msklearn\u001b[0m\u001b[0;34m.\u001b[0m\u001b[0mmetrics\u001b[0m \u001b[0;32mimport\u001b[0m \u001b[0mconfusion_matrix\u001b[0m\u001b[0;34m,\u001b[0m \u001b[0mConfusionMatrixDisplay\u001b[0m\u001b[0;34m\u001b[0m\u001b[0;34m\u001b[0m\u001b[0m\n\u001b[0;32m----> 2\u001b[0;31m \u001b[0mcm\u001b[0m \u001b[0;34m=\u001b[0m \u001b[0mconfusion_matrix\u001b[0m\u001b[0;34m(\u001b[0m\u001b[0my_test\u001b[0m\u001b[0;34m,\u001b[0m \u001b[0mpred\u001b[0m\u001b[0;34m)\u001b[0m\u001b[0;34m\u001b[0m\u001b[0;34m\u001b[0m\u001b[0m\n\u001b[0m\u001b[1;32m      3\u001b[0m \u001b[0;31m#cmd = ConfusionMatrixDisplay(cm, display_labels=['business','health'])\u001b[0m\u001b[0;34m\u001b[0m\u001b[0;34m\u001b[0m\u001b[0;34m\u001b[0m\u001b[0m\n\u001b[1;32m      4\u001b[0m \u001b[0;31m#cmd.plot()\u001b[0m\u001b[0;34m\u001b[0m\u001b[0;34m\u001b[0m\u001b[0;34m\u001b[0m\u001b[0m\n",
            "\u001b[0;32m/usr/local/lib/python3.7/dist-packages/sklearn/metrics/_classification.py\u001b[0m in \u001b[0;36mconfusion_matrix\u001b[0;34m(y_true, y_pred, labels, sample_weight, normalize)\u001b[0m\n\u001b[1;32m    266\u001b[0m \u001b[0;34m\u001b[0m\u001b[0m\n\u001b[1;32m    267\u001b[0m     \"\"\"\n\u001b[0;32m--> 268\u001b[0;31m     \u001b[0my_type\u001b[0m\u001b[0;34m,\u001b[0m \u001b[0my_true\u001b[0m\u001b[0;34m,\u001b[0m \u001b[0my_pred\u001b[0m \u001b[0;34m=\u001b[0m \u001b[0m_check_targets\u001b[0m\u001b[0;34m(\u001b[0m\u001b[0my_true\u001b[0m\u001b[0;34m,\u001b[0m \u001b[0my_pred\u001b[0m\u001b[0;34m)\u001b[0m\u001b[0;34m\u001b[0m\u001b[0;34m\u001b[0m\u001b[0m\n\u001b[0m\u001b[1;32m    269\u001b[0m     \u001b[0;32mif\u001b[0m \u001b[0my_type\u001b[0m \u001b[0;32mnot\u001b[0m \u001b[0;32min\u001b[0m \u001b[0;34m(\u001b[0m\u001b[0;34m\"binary\"\u001b[0m\u001b[0;34m,\u001b[0m \u001b[0;34m\"multiclass\"\u001b[0m\u001b[0;34m)\u001b[0m\u001b[0;34m:\u001b[0m\u001b[0;34m\u001b[0m\u001b[0;34m\u001b[0m\u001b[0m\n\u001b[1;32m    270\u001b[0m         \u001b[0;32mraise\u001b[0m \u001b[0mValueError\u001b[0m\u001b[0;34m(\u001b[0m\u001b[0;34m\"%s is not supported\"\u001b[0m \u001b[0;34m%\u001b[0m \u001b[0my_type\u001b[0m\u001b[0;34m)\u001b[0m\u001b[0;34m\u001b[0m\u001b[0;34m\u001b[0m\u001b[0m\n",
            "\u001b[0;32m/usr/local/lib/python3.7/dist-packages/sklearn/metrics/_classification.py\u001b[0m in \u001b[0;36m_check_targets\u001b[0;34m(y_true, y_pred)\u001b[0m\n\u001b[1;32m     88\u001b[0m     \u001b[0;32mif\u001b[0m \u001b[0mlen\u001b[0m\u001b[0;34m(\u001b[0m\u001b[0my_type\u001b[0m\u001b[0;34m)\u001b[0m \u001b[0;34m>\u001b[0m \u001b[0;36m1\u001b[0m\u001b[0;34m:\u001b[0m\u001b[0;34m\u001b[0m\u001b[0;34m\u001b[0m\u001b[0m\n\u001b[1;32m     89\u001b[0m         raise ValueError(\"Classification metrics can't handle a mix of {0} \"\n\u001b[0;32m---> 90\u001b[0;31m                          \"and {1} targets\".format(type_true, type_pred))\n\u001b[0m\u001b[1;32m     91\u001b[0m \u001b[0;34m\u001b[0m\u001b[0m\n\u001b[1;32m     92\u001b[0m     \u001b[0;31m# We can't have more than one value on y_type => The set is no more needed\u001b[0m\u001b[0;34m\u001b[0m\u001b[0;34m\u001b[0m\u001b[0;34m\u001b[0m\u001b[0m\n",
            "\u001b[0;31mValueError\u001b[0m: Classification metrics can't handle a mix of binary and continuous targets"
          ]
        }
      ]
    },
    {
      "cell_type": "code",
      "metadata": {
        "id": "4d6kEluiThHi"
      },
      "source": [
        "#The model definition\n",
        "from keras import models\n",
        "from keras import layers\n",
        "model = models.Sequential()\n",
        "model.add(layers.Dense(16, activation='relu', input_shape=(10000,)))\n",
        "model.add(layers.Dense(16, activation='relu'))\n",
        "model.add(layers.Dense(1, activation='sigmoid'))\n",
        "model.summary()"
      ],
      "execution_count": null,
      "outputs": []
    },
    {
      "cell_type": "code",
      "metadata": {
        "id": "lLYNGNfETucB"
      },
      "source": [
        "#Compiling the model\n",
        "model.compile(optimizer='rmsprop',\n",
        "loss='binary_crossentropy',\n",
        "metrics=['accuracy'])"
      ],
      "execution_count": null,
      "outputs": []
    },
    {
      "cell_type": "code",
      "metadata": {
        "id": "abzez6dwUDu_"
      },
      "source": [
        "#Configuring the optimizer\n",
        "from keras import optimizers\n",
        "model.compile(optimizer=optimizers.RMSprop(learning_rate=0.001),\n",
        "loss='binary_crossentropy',\n",
        "metrics=['accuracy'])"
      ],
      "execution_count": null,
      "outputs": []
    },
    {
      "cell_type": "code",
      "metadata": {
        "id": "HmtkH1_dURwk"
      },
      "source": [
        "#Using custom losses and metrics\n",
        "from keras import losses\n",
        "from keras import metrics\n",
        "model.compile(optimizer=optimizers.RMSprop(learning_rate=0.001),\n",
        "loss=losses.binary_crossentropy,\n",
        "metrics=[metrics.binary_accuracy])\n"
      ],
      "execution_count": null,
      "outputs": []
    },
    {
      "cell_type": "code",
      "metadata": {
        "id": "hCaRVvKvUpSr"
      },
      "source": [
        "#Setting aside a validation set\n",
        "x_val = x_train[:10000]\n",
        "partial_x_train = x_train[10000:]\n",
        "y_val = y_train[:10000]\n",
        "partial_y_train = y_train[10000:]"
      ],
      "execution_count": null,
      "outputs": []
    },
    {
      "cell_type": "code",
      "metadata": {
        "colab": {
          "base_uri": "https://localhost:8080/"
        },
        "id": "yUSR9CwDU1WC",
        "outputId": "62af8658-c098-49be-91d4-0d4954b20bb4"
      },
      "source": [
        "#Training your model\n",
        "model.compile(optimizer='rmsprop',\n",
        "loss='binary_crossentropy',\n",
        "metrics=['acc'])\n",
        "history = model.fit(partial_x_train,\n",
        "partial_y_train,\n",
        "epochs=20,\n",
        "batch_size=512,\n",
        "validation_data=(x_val, y_val))"
      ],
      "execution_count": null,
      "outputs": [
        {
          "output_type": "stream",
          "text": [
            "Epoch 1/20\n",
            "30/30 [==============================] - 16s 47ms/step - loss: 0.5837 - acc: 0.7017 - val_loss: 0.3772 - val_acc: 0.8732\n",
            "Epoch 2/20\n",
            "30/30 [==============================] - 1s 18ms/step - loss: 0.3197 - acc: 0.8968 - val_loss: 0.3023 - val_acc: 0.8886\n",
            "Epoch 3/20\n",
            "30/30 [==============================] - 1s 19ms/step - loss: 0.2310 - acc: 0.9296 - val_loss: 0.2830 - val_acc: 0.8879\n",
            "Epoch 4/20\n",
            "30/30 [==============================] - 1s 19ms/step - loss: 0.1756 - acc: 0.9443 - val_loss: 0.2913 - val_acc: 0.8838\n",
            "Epoch 5/20\n",
            "30/30 [==============================] - 1s 19ms/step - loss: 0.1407 - acc: 0.9548 - val_loss: 0.2780 - val_acc: 0.8888\n",
            "Epoch 6/20\n",
            "30/30 [==============================] - 1s 19ms/step - loss: 0.1113 - acc: 0.9682 - val_loss: 0.2916 - val_acc: 0.8884\n",
            "Epoch 7/20\n",
            "30/30 [==============================] - 1s 18ms/step - loss: 0.0957 - acc: 0.9728 - val_loss: 0.3114 - val_acc: 0.8853\n",
            "Epoch 8/20\n",
            "30/30 [==============================] - 1s 19ms/step - loss: 0.0815 - acc: 0.9782 - val_loss: 0.3404 - val_acc: 0.8778\n",
            "Epoch 9/20\n",
            "30/30 [==============================] - 1s 19ms/step - loss: 0.0602 - acc: 0.9858 - val_loss: 0.3558 - val_acc: 0.8792\n",
            "Epoch 10/20\n",
            "30/30 [==============================] - 1s 19ms/step - loss: 0.0515 - acc: 0.9885 - val_loss: 0.3789 - val_acc: 0.8797\n",
            "Epoch 11/20\n",
            "30/30 [==============================] - 1s 19ms/step - loss: 0.0412 - acc: 0.9910 - val_loss: 0.4032 - val_acc: 0.8766\n",
            "Epoch 12/20\n",
            "30/30 [==============================] - 1s 19ms/step - loss: 0.0314 - acc: 0.9945 - val_loss: 0.4382 - val_acc: 0.8765\n",
            "Epoch 13/20\n",
            "30/30 [==============================] - 1s 18ms/step - loss: 0.0265 - acc: 0.9958 - val_loss: 0.4788 - val_acc: 0.8686\n",
            "Epoch 14/20\n",
            "30/30 [==============================] - 1s 23ms/step - loss: 0.0174 - acc: 0.9981 - val_loss: 0.5032 - val_acc: 0.8702\n",
            "Epoch 15/20\n",
            "30/30 [==============================] - 1s 19ms/step - loss: 0.0147 - acc: 0.9985 - val_loss: 0.5525 - val_acc: 0.8692\n",
            "Epoch 16/20\n",
            "30/30 [==============================] - 1s 19ms/step - loss: 0.0113 - acc: 0.9990 - val_loss: 0.5747 - val_acc: 0.8679\n",
            "Epoch 17/20\n",
            "30/30 [==============================] - 1s 19ms/step - loss: 0.0069 - acc: 0.9997 - val_loss: 0.7009 - val_acc: 0.8548\n",
            "Epoch 18/20\n",
            "30/30 [==============================] - 1s 18ms/step - loss: 0.0073 - acc: 0.9997 - val_loss: 0.6372 - val_acc: 0.8649\n",
            "Epoch 19/20\n",
            "30/30 [==============================] - 1s 18ms/step - loss: 0.0067 - acc: 0.9990 - val_loss: 0.6679 - val_acc: 0.8654\n",
            "Epoch 20/20\n",
            "30/30 [==============================] - 1s 18ms/step - loss: 0.0032 - acc: 0.9998 - val_loss: 0.6924 - val_acc: 0.8662\n"
          ],
          "name": "stdout"
        }
      ]
    },
    {
      "cell_type": "code",
      "metadata": {
        "colab": {
          "base_uri": "https://localhost:8080/"
        },
        "id": "PfDyl79HVMBm",
        "outputId": "429bf7f4-3c95-41c7-c9a3-47469e184066"
      },
      "source": [
        "history_dict = history.history\n",
        "history_dict.keys()"
      ],
      "execution_count": null,
      "outputs": [
        {
          "output_type": "execute_result",
          "data": {
            "text/plain": [
              "dict_keys(['loss', 'accuracy', 'val_loss', 'val_accuracy'])"
            ]
          },
          "metadata": {
            "tags": []
          },
          "execution_count": 20
        }
      ]
    },
    {
      "cell_type": "code",
      "metadata": {
        "colab": {
          "base_uri": "https://localhost:8080/",
          "height": 295
        },
        "id": "WNxfjtTWVXc2",
        "outputId": "57494d82-c581-442c-823e-6aba0f086911"
      },
      "source": [
        "import matplotlib.pyplot as plt\n",
        "history_dict = history.history\n",
        "loss_values = history_dict['loss']\n",
        "val_loss_values = history_dict['val_loss']\n",
        "acc = history_dict['accuracy']\n",
        "epochs = range(1, len(acc) + 1)\n",
        "plt.plot(epochs, loss_values, 'bo', label='Training loss')\n",
        "plt.plot(epochs, val_loss_values, 'b', label='Validation loss')\n",
        "plt.title('Training and validation loss')\n",
        "plt.xlabel('Epochs')\n",
        "plt.ylabel('Loss')\n",
        "plt.legend()\n",
        "plt.show()"
      ],
      "execution_count": null,
      "outputs": [
        {
          "output_type": "display_data",
          "data": {
            "image/png": "[encoded data removed]",
            "text/plain": [
              "<Figure size 432x288 with 1 Axes>"
            ]
          },
          "metadata": {
            "tags": [],
            "needs_background": "light"
          }
        }
      ]
    },
    {
      "cell_type": "code",
      "metadata": {
        "colab": {
          "base_uri": "https://localhost:8080/",
          "height": 295
        },
        "id": "3dZ6KBD-VyqP",
        "outputId": "31be5d55-e91f-402a-eef4-8314305f2e63"
      },
      "source": [
        "#plt.clf()\n",
        "acc_values = history_dict['accuracy']\n",
        "val_acc_values = history_dict['val_accuracy']\n",
        "plt.plot(epochs, acc, 'bo', label='Training acc')\n",
        "plt.plot(epochs, val_acc_values, 'b', label='Validation acc')\n",
        "plt.title('Training and validation accuracy')\n",
        "plt.xlabel('Epochs')\n",
        "plt.ylabel('Loss')\n",
        "plt.legend()\n",
        "plt.show()"
      ],
      "execution_count": null,
      "outputs": [
        {
          "output_type": "display_data",
          "data": {
            "image/png": "[encoded data removed]",
            "text/plain": [
              "<Figure size 432x288 with 1 Axes>"
            ]
          },
          "metadata": {
            "tags": [],
            "needs_background": "light"
          }
        }
      ]
    },
    {
      "cell_type": "code",
      "metadata": {
        "colab": {
          "base_uri": "https://localhost:8080/"
        },
        "id": "nsaF09P3WUok",
        "outputId": "c322d5ca-c640-4202-ba5b-138fc98d6f2b"
      },
      "source": [
        "#Retraining a model from scratch\n",
        "model = models.Sequential()\n",
        "model.add(layers.Dense(16, activation='relu', input_shape=(10000,)))\n",
        "model.add(layers.Dense(16, activation='relu'))\n",
        "model.add(layers.Dense(1, activation='sigmoid'))\n",
        "model.compile(optimizer='rmsprop',\n",
        "loss='binary_crossentropy',\n",
        "metrics=['accuracy'])\n",
        "model.fit(x_train, y_train, epochs=4, batch_size=512)\n",
        "results = model.evaluate(x_test, y_test)"
      ],
      "execution_count": null,
      "outputs": [
        {
          "output_type": "stream",
          "text": [
            "Epoch 1/4\n",
            "49/49 [==============================] - 1s 11ms/step - loss: 0.5432 - accuracy: 0.7306\n",
            "Epoch 2/4\n",
            "49/49 [==============================] - 1s 12ms/step - loss: 0.2665 - accuracy: 0.9064\n",
            "Epoch 3/4\n",
            "49/49 [==============================] - 1s 11ms/step - loss: 0.1955 - accuracy: 0.9323\n",
            "Epoch 4/4\n",
            "49/49 [==============================] - 1s 12ms/step - loss: 0.1617 - accuracy: 0.9440\n",
            "782/782 [==============================] - 2s 2ms/step - loss: 0.3705 - accuracy: 0.8561\n"
          ],
          "name": "stdout"
        }
      ]
    },
    {
      "cell_type": "code",
      "metadata": {
        "colab": {
          "base_uri": "https://localhost:8080/"
        },
        "id": "ziKobHx9WdT9",
        "outputId": "c7e11eab-0833-4c14-87f2-acbea49acab0"
      },
      "source": [
        "results"
      ],
      "execution_count": null,
      "outputs": [
        {
          "output_type": "execute_result",
          "data": {
            "text/plain": [
              "[0.3705272972583771, 0.8561199903488159]"
            ]
          },
          "metadata": {
            "tags": []
          },
          "execution_count": 21
        }
      ]
    },
    {
      "cell_type": "code",
      "metadata": {
        "colab": {
          "base_uri": "https://localhost:8080/"
        },
        "id": "OocZtlS3WkaQ",
        "outputId": "e4215514-ecdb-491a-e004-7041fda8f1c8"
      },
      "source": [
        "#Using a trained network to generate predictions on new data\n",
        "model.predict(x_test)"
      ],
      "execution_count": null,
      "outputs": [
        {
          "output_type": "execute_result",
          "data": {
            "text/plain": [
              "array([[0.31140727],\n",
              "       [0.99979514],\n",
              "       [0.99532795],\n",
              "       ...,\n",
              "       [0.2397323 ],\n",
              "       [0.16981585],\n",
              "       [0.86622673]], dtype=float32)"
            ]
          },
          "metadata": {
            "tags": []
          },
          "execution_count": 22
        }
      ]
    },
    {
      "cell_type": "code",
      "metadata": {
        "id": "puJAgK8zZDVS"
      },
      "source": [
        "from keras import models\n",
        "from keras import layers\n",
        "def build_model():\n",
        "  model = models.Sequential()\n",
        "  model.add(layers.Dense(64, activation='relu',\n",
        "  input_shape=(train_data.shape[1],)))\n",
        "  model.add(layers.Dense(64, activation='relu'))\n",
        "  model.add(layers.Dense(1))\n",
        "  model.compile(optimizer='rmsprop', loss='mse', metrics=['mae'])\n",
        "  return model"
      ],
      "execution_count": null,
      "outputs": []
    },
    {
      "cell_type": "code",
      "metadata": {
        "id": "F9Fpfz6oZ9PZ"
      },
      "source": [
        "#Building the history of successive mean K-fold validation scores\n",
        "average_mae_history = [\n",
        "np.mean([x[i] for x in all_mae_histories]) for i in range(num_epochs)]"
      ],
      "execution_count": null,
      "outputs": []
    },
    {
      "cell_type": "code",
      "metadata": {
        "id": "SKkO0HXuaIyE"
      },
      "source": [
        "#Plotting validation scores\n",
        "import matplotlib.pyplot as plt\n",
        "plt.plot(range(1, len(average_mae_history) + 1), average_mae_history)\n",
        "plt.xlabel('Epochs')\n",
        "plt.ylabel('Validation MAE')\n",
        "plt.show()"
      ],
      "execution_count": null,
      "outputs": []
    },
    {
      "cell_type": "code",
      "metadata": {
        "id": "U47yYsioaWWQ"
      },
      "source": [
        "#Plotting validation scores, excluding the first 10 data points\n",
        "def smooth_curve(points, factor=0.9):\n",
        "  smoothed_points = []\n",
        "  for point in points:\n",
        "    if smoothed_points:\n",
        "      previous = smoothed_points[-1]\n",
        "      smoothed_points.append(previous * factor + point * (1 - factor))\n",
        "    else:\n",
        "      smoothed_points.append(point)\n",
        "  return smoothed_points\n",
        "smooth_mae_history = smooth_curve(average_mae_history[10:])\n",
        "plt.plot(range(1, len(smooth_mae_history) + 1), smooth_mae_history)\n",
        "plt.xlabel('Epochs')\n",
        "plt.ylabel('Validation MAE')\n",
        "plt.show()"
      ],
      "execution_count": null,
      "outputs": []
    },
    {
      "cell_type": "code",
      "metadata": {
        "id": "C1Qw1IFYayxn"
      },
      "source": [
        "#Training the final model\n",
        "model = build_model()\n",
        "model.fit(train_data, train_targets,\n",
        "epochs=80, batch_size=16, verbose=0)\n",
        "test_mse_score, test_mae_score = model.evaluate(test_data, test_targets)"
      ],
      "execution_count": null,
      "outputs": []
    },
    {
      "cell_type": "code",
      "metadata": {
        "id": "DjiWB8LrcihZ"
      },
      "source": [
        "#Adding dropout to the IMDB network\n",
        "model = models.Sequential()\n",
        "model.add(layers.Dense(16, activation='relu', input_shape=(10000,)))\n",
        "model.add(layers.Dropout(0.5))\n",
        "model.add(layers.Dense(16, activation='relu'))\n",
        "model.add(layers.Dropout(0.5))\n",
        "model.add(layers.Dense(1, activation='sigmoid'))\n",
        "model.summary()\n",
        "model.compile(optimizer='rmsprop',\n",
        "loss='binary_crossentropy',\n",
        "metrics=['accuracy'])\n",
        "model.fit(x_train, y_train, epochs=4, batch_size=512)\n",
        "results = model.evaluate(x_test, y_test)"
      ],
      "execution_count": null,
      "outputs": []
    },
    {
      "cell_type": "code",
      "metadata": {
        "id": "KelLcJFtdsMn"
      },
      "source": [
        "history_dict = history.history\n",
        "loss_values = history_dict['loss']\n",
        "val_loss_values = history_dict['val_loss']\n",
        "acc = history_dict['acc']\n",
        "epochs = range(1, len(acc) + 1)\n",
        "plt.plot(epochs, loss_values, 'bo', label='Training loss')\n",
        "plt.plot(epochs, val_loss_values, 'b', label='Validation loss')\n",
        "plt.title('Training and validation loss')\n",
        "plt.xlabel('Epochs')\n",
        "plt.ylabel('Loss')\n",
        "plt.legend()\n",
        "plt.show()"
      ],
      "execution_count": null,
      "outputs": []
    },
    {
      "cell_type": "code",
      "metadata": {
        "colab": {
          "base_uri": "https://localhost:8080/",
          "height": 298
        },
        "id": "EblP7aSxXHOs",
        "outputId": "a15874bf-d3d9-46bf-d97b-2925b18e76c5"
      },
      "source": [
        "#@title\n",
        "#Validating your approach using K-fold validation\n",
        "#K-fold validation\n",
        "import numpy as np\n",
        "k = 4\n",
        "num_val_samples = len(train_data) // k\n",
        "num_epochs = 10\n",
        "all_scores = []\n",
        "train_data = partial_x_train\n",
        "train_targets = partial_y_train\n",
        "for i in range(k):\n",
        "  print('processing fold #', i)\n",
        "  val_data = train_data[i * num_val_samples: (i + 1) * num_val_samples]\n",
        "  val_targets = train_targets[i * num_val_samples: (i + 1) * num_val_samples]\n",
        "  partial_train_data = np.concatenate(\n",
        "  [train_data[:i * num_val_samples],\n",
        "  train_data[(i + 1) * num_val_samples:]],axis=0)\n",
        "  partial_train_targets = np.concatenate(\n",
        "  [train_targets[:i * num_val_samples],\n",
        "  train_targets[(i + 1) * num_val_samples:]],axis=0)\n",
        "  model = build_model()\n",
        "  model.fit(partial_train_data, partial_train_targets,\n",
        "  epochs=num_epochs, batch_size=1, verbose=0)\n",
        "  val_mse, val_mae = model.evaluate(val_data, val_targets, verbose=0)\n",
        "  all_scores.append(val_mae)"
      ],
      "execution_count": null,
      "outputs": [
        {
          "output_type": "stream",
          "text": [
            "processing fold # 0\n",
            "processing fold # 1\n",
            "processing fold # 2\n",
            "processing fold # 3\n"
          ],
          "name": "stdout"
        },
        {
          "output_type": "error",
          "ename": "ValueError",
          "evalue": "ignored",
          "traceback": [
            "\u001b[0;31m---------------------------------------------------------------------------\u001b[0m",
            "\u001b[0;31mValueError\u001b[0m                                Traceback (most recent call last)",
            "\u001b[0;32m<ipython-input-24-fea9485e1199>\u001b[0m in \u001b[0;36m<module>\u001b[0;34m()\u001b[0m\n\u001b[1;32m     21\u001b[0m   model.fit(partial_train_data, partial_train_targets,\n\u001b[1;32m     22\u001b[0m   epochs=num_epochs, batch_size=1, verbose=0)\n\u001b[0;32m---> 23\u001b[0;31m   \u001b[0mval_mse\u001b[0m\u001b[0;34m,\u001b[0m \u001b[0mval_mae\u001b[0m \u001b[0;34m=\u001b[0m \u001b[0mmodel\u001b[0m\u001b[0;34m.\u001b[0m\u001b[0mevaluate\u001b[0m\u001b[0;34m(\u001b[0m\u001b[0mval_data\u001b[0m\u001b[0;34m,\u001b[0m \u001b[0mval_targets\u001b[0m\u001b[0;34m,\u001b[0m \u001b[0mverbose\u001b[0m\u001b[0;34m=\u001b[0m\u001b[0;36m0\u001b[0m\u001b[0;34m)\u001b[0m\u001b[0;34m\u001b[0m\u001b[0;34m\u001b[0m\u001b[0m\n\u001b[0m\u001b[1;32m     24\u001b[0m   \u001b[0mall_scores\u001b[0m\u001b[0;34m.\u001b[0m\u001b[0mappend\u001b[0m\u001b[0;34m(\u001b[0m\u001b[0mval_mae\u001b[0m\u001b[0;34m)\u001b[0m\u001b[0;34m\u001b[0m\u001b[0;34m\u001b[0m\u001b[0m\n",
            "\u001b[0;31mValueError\u001b[0m: not enough values to unpack (expected 2, got 0)"
          ]
        }
      ]
    },
    {
      "cell_type": "code",
      "metadata": {
        "id": "qa3hf8x4Zatb"
      },
      "source": [
        "#Saving the validation logs at each fold\n",
        "num_epochs = 500\n",
        "all_mae_histories = []\n",
        "for i in range(k):\n",
        " print('processing fold #', i)\n",
        " val_data = train_data[i * num_val_samples: (i + 1) * num_val_samples]\n",
        " val_targets = train_targets[i * num_val_samples: (i + 1) * num_val_samples]\n",
        " partial_train_data = np.concatenate(\n",
        " [train_data[:i * num_val_samples],\n",
        " train_data[(i + 1) * num_val_samples:]],axis=0)"
      ],
      "execution_count": null,
      "outputs": []
    },
    {
      "cell_type": "code",
      "metadata": {
        "id": "PuJ_ONPLZ0dV"
      },
      "source": [
        "#Saving the validation logs at each fold\n",
        "partial_train_targets = np.concatenate(\n",
        "[train_targets[:i * num_val_samples],\n",
        "train_targets[(i + 1) * num_val_samples:]],\n",
        "axis=0)\n",
        "model = build_model()\n",
        "history = model.fit(partial_train_data, partial_train_targets,\n",
        "validation_data=(val_data, val_targets),\n",
        "epochs=num_epochs, batch_size=1, verbose=0)\n",
        "mae_history = history.history['val_mean_absolute_error']\n",
        "all_mae_histories.append(mae_history)"
      ],
      "execution_count": null,
      "outputs": []
    }
  ]
}