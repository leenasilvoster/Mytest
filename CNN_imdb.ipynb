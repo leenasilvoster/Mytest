{
  "nbformat": 4,
  "nbformat_minor": 0,
  "metadata": {
    "colab": {
      "name": "CNN_imdb.ipynb",
      "provenance": [],
      "collapsed_sections": [],
      "mount_file_id": "15sHa4i3AgKFOw5TRlDkgyWVPtNwWK6s3",
      "authorship_tag": "ABX9TyMxoTYSAyjAK8FkKojiXySz",
      "include_colab_link": true
    },
    "kernelspec": {
      "name": "python3",
      "display_name": "Python 3"
    },
    "language_info": {
      "name": "python"
    }
  },
  "cells": [
    {
      "cell_type": "markdown",
      "metadata": {
        "id": "view-in-github",
        "colab_type": "text"
      },
      "source": [
        "<a href=\"https://colab.research.google.com/github/leenasilvoster/Mytest/blob/master/CNN_imdb.ipynb\" target=\"_parent\"><img src=\"https://colab.research.google.com/assets/colab-badge.svg\" alt=\"Open In Colab\"/></a>"
      ]
    },
    {
      "cell_type": "code",
      "metadata": {
        "id": "DxpDZ2Y_zyLl"
      },
      "source": [
        "import numpy as np\n",
        "from sklearn.model_selection import train_test_split\n",
        "from keras.datasets import imdb\n",
        "from keras.models import Sequential\n",
        "from keras.layers import Dense,Conv1D,MaxPooling1D\n",
        "from keras.layers import LSTM,Dropout\n",
        "from keras.layers.embeddings import Embedding\n",
        "from keras.preprocessing import sequence\n",
        "from keras.callbacks import ModelCheckpoint \n",
        "from google.colab import files"
      ],
      "execution_count": null,
      "outputs": []
    },
    {
      "cell_type": "code",
      "metadata": {
        "id": "8chk4zOg7Xgj"
      },
      "source": [
        "#fix random seed for reproducibility\n",
        "np.random.seed(7)\n",
        "from prettytable import PrettyTable\n",
        "import warnings\n",
        "warnings.filterwarnings('ignore')"
      ],
      "execution_count": null,
      "outputs": []
    },
    {
      "cell_type": "code",
      "metadata": {
        "id": "7NiLIsIZ52zr"
      },
      "source": [
        "from google.colab import drive\n",
        "drive.mount('/content/drive')"
      ],
      "execution_count": null,
      "outputs": []
    },
    {
      "cell_type": "code",
      "metadata": {
        "colab": {
          "base_uri": "https://localhost:8080/"
        },
        "id": "aRZZNxY-8ILH",
        "outputId": "c201dbc5-a6ca-430f-a346-ffc673db6325"
      },
      "source": [
        "#Load the dataset but only keep the top n words,zero the rest\n",
        "top_words=10000\n",
        "(X_train,y_train),(x_test,y_test) = imdb.load_data(num_words=top_words)"
      ],
      "execution_count": null,
      "outputs": [
        {
          "output_type": "stream",
          "text": [
            "Downloading data from https://storage.googleapis.com/tensorflow/tf-keras-datasets/imdb.npz\n",
            "17465344/17464789 [==============================] - 0s 0us/step\n",
            "17473536/17464789 [==============================] - 0s 0us/step\n"
          ],
          "name": "stdout"
        }
      ]
    },
    {
      "cell_type": "code",
      "metadata": {
        "colab": {
          "base_uri": "https://localhost:8080/"
        },
        "id": "XnQVgYBq82nf",
        "outputId": "bdb5983a-07af-47bc-e459-8559dbc07ac3"
      },
      "source": [
        "#num_words = top_words\n",
        "print(\"Shape of train data:\",X_train.shape)\n",
        "X_train,x_cv,y_train,y_cv = train_test_split(X_train,y_train,test_size=0.2)\n",
        "print(\"Shape of train data:\",X_train.shape)\n",
        "print(\"Shape of test data:\",x_test.shape)\n",
        "print(\"Shape of cv data:\",x_cv.shape)"
      ],
      "execution_count": null,
      "outputs": [
        {
          "output_type": "stream",
          "text": [
            "Shape of train data: (25000,)\n",
            "Shape of train data: (20000,)\n",
            "Shape of test data: (25000,)\n",
            "Shape of cv data: (5000,)\n"
          ],
          "name": "stdout"
        }
      ]
    },
    {
      "cell_type": "code",
      "metadata": {
        "id": "AAJxWyZI_g0_"
      },
      "source": [
        "#truncate and pad input sequence\n",
        "max_review_length = 600\n",
        "X_train = sequence.pad_sequences(X_train,maxlen = max_review_length )\n",
        "x_test = sequence.pad_sequences(x_test,maxlen = max_review_length )\n",
        "x_cv = sequence.pad_sequences(x_cv,maxlen = max_review_length )\n"
      ],
      "execution_count": null,
      "outputs": []
    },
    {
      "cell_type": "code",
      "metadata": {
        "id": "3yNBJIrEAGF4"
      },
      "source": [
        "embedding_vecor_length = 32\n",
        "model = Sequential()\n",
        "model.add(Embedding(top_words,embedding_vecor_length,input_length = max_review_length))"
      ],
      "execution_count": null,
      "outputs": []
    },
    {
      "cell_type": "code",
      "metadata": {
        "colab": {
          "base_uri": "https://localhost:8080/"
        },
        "id": "wPiKvVTDAnjA",
        "outputId": "b11a998f-4493-4802-ba47-75b7d21b8eae"
      },
      "source": [
        "model.add(LSTM(100,dropout=0.2,recurrent_dropout=0.2))\n",
        "model.add(Dense(1,activation='sigmoid'))\n",
        "model.compile(loss='binary_crossentropy',optimizer='adam',metrics=['accuracy'])\n",
        "print(model.summary())"
      ],
      "execution_count": null,
      "outputs": [
        {
          "output_type": "stream",
          "text": [
            "Model: \"sequential\"\n",
            "_________________________________________________________________\n",
            "Layer (type)                 Output Shape              Param #   \n",
            "=================================================================\n",
            "embedding (Embedding)        (None, 600, 32)           320000    \n",
            "_________________________________________________________________\n",
            "lstm (LSTM)                  (None, 100)               53200     \n",
            "_________________________________________________________________\n",
            "dense (Dense)                (None, 1)                 101       \n",
            "=================================================================\n",
            "Total params: 373,301\n",
            "Trainable params: 373,301\n",
            "Non-trainable params: 0\n",
            "_________________________________________________________________\n",
            "None\n"
          ],
          "name": "stdout"
        }
      ]
    },
    {
      "cell_type": "code",
      "metadata": {
        "id": "2r3hUB4nB2pR",
        "colab": {
          "base_uri": "https://localhost:8080/",
          "height": 105
        },
        "outputId": "7c3aea11-7eda-4584-a840-7d1de9058cc3"
      },
      "source": [
        "#filepath =\"C:\\\\Users\\\\princ\\\\Documents\\\\weights_best.hdfs\"\n",
        "filepath =\"/content/drive/MyDrive/Colab Notebooks/weights_best.hdfs\"\n",
        "checkpoint = ModelCheckpoint(filepath,monitor='val_acc', verbose=1,save_best_only=True,mode='max',save_weights_only=True)\n",
        "callbacks_list =[checkpoint]\n",
        "model.fit(X_train,y_train,epochs=1,batch_size=256,verbose=1, callbacks=callbacks_list,validation_data=(x_cv,y_cv))\n",
        "#model.fit(X_train,y_train,batch_size=256,epochs=5,verbose=1,callbacks=callbacks_list,validation_data=(x_cv,y_cv))\n",
        "#For weights\n",
        "model.save('weights_best.hdfs')\n",
        "files.download('weights_best.hdfs')"
      ],
      "execution_count": null,
      "outputs": [
        {
          "output_type": "stream",
          "text": [
            "79/79 [==============================] - 292s 3s/step - loss: 0.6855 - accuracy: 0.5410 - val_loss: 0.5849 - val_accuracy: 0.7006\n",
            "WARNING:tensorflow:Can save best model only with val_acc available, skipping.\n",
            "INFO:tensorflow:Assets written to: weights_best.hdfs/assets\n"
          ],
          "name": "stdout"
        },
        {
          "output_type": "display_data",
          "data": {
            "application/javascript": [
              "\n",
              "    async function download(id, filename, size) {\n",
              "      if (!google.colab.kernel.accessAllowed) {\n",
              "        return;\n",
              "      }\n",
              "      const div = document.createElement('div');\n",
              "      const label = document.createElement('label');\n",
              "      label.textContent = `Downloading \"${filename}\": `;\n",
              "      div.appendChild(label);\n",
              "      const progress = document.createElement('progress');\n",
              "      progress.max = size;\n",
              "      div.appendChild(progress);\n",
              "      document.body.appendChild(div);\n",
              "\n",
              "      const buffers = [];\n",
              "      let downloaded = 0;\n",
              "\n",
              "      const channel = await google.colab.kernel.comms.open(id);\n",
              "      // Send a message to notify the kernel that we're ready.\n",
              "      channel.send({})\n",
              "\n",
              "      for await (const message of channel.messages) {\n",
              "        // Send a message to notify the kernel that we're ready.\n",
              "        channel.send({})\n",
              "        if (message.buffers) {\n",
              "          for (const buffer of message.buffers) {\n",
              "            buffers.push(buffer);\n",
              "            downloaded += buffer.byteLength;\n",
              "            progress.value = downloaded;\n",
              "          }\n",
              "        }\n",
              "      }\n",
              "      const blob = new Blob(buffers, {type: 'application/binary'});\n",
              "      const a = document.createElement('a');\n",
              "      a.href = window.URL.createObjectURL(blob);\n",
              "      a.download = filename;\n",
              "      div.appendChild(a);\n",
              "      a.click();\n",
              "      div.remove();\n",
              "    }\n",
              "  "
            ],
            "text/plain": [
              "<IPython.core.display.Javascript object>"
            ]
          },
          "metadata": {
            "tags": []
          }
        },
        {
          "output_type": "display_data",
          "data": {
            "application/javascript": [
              "download(\"download_53f266b6-0dc7-456d-bee9-dda8bb4c03c8\", \"weights_best.hdfs\", 4096)"
            ],
            "text/plain": [
              "<IPython.core.display.Javascript object>"
            ]
          },
          "metadata": {
            "tags": []
          }
        }
      ]
    },
    {
      "cell_type": "code",
      "metadata": {
        "colab": {
          "base_uri": "https://localhost:8080/"
        },
        "id": "oz4btQMQdgCx",
        "outputId": "d8608e69-6c73-4dca-80db-d39ba3e2ceb0"
      },
      "source": [
        "#final evaluation of the model\n",
        "embedding_vector_length = 32\n",
        "model =Sequential()\n",
        "model.add(Embedding(top_words,embedding_vector_length,input_length = max_review_length))\n",
        "model.add(LSTM(100,dropout=0.2,recurrent_dropout=0.2))\n",
        "model.add(Dense(1,activation='sigmoid'))\n",
        "model.load_weights(\"weights_best.hdfs\")\n",
        "model.compile(loss='binary_crossentropy',optimizer='adam',metrics=['accuracy'])\n",
        "print(model.summary())"
      ],
      "execution_count": null,
      "outputs": [
        {
          "output_type": "stream",
          "text": [
            "Model: \"sequential_3\"\n",
            "_________________________________________________________________\n",
            "Layer (type)                 Output Shape              Param #   \n",
            "=================================================================\n",
            "embedding_3 (Embedding)      (None, 600, 32)           320000    \n",
            "_________________________________________________________________\n",
            "lstm_3 (LSTM)                (None, 100)               53200     \n",
            "_________________________________________________________________\n",
            "dense_3 (Dense)              (None, 1)                 101       \n",
            "=================================================================\n",
            "Total params: 373,301\n",
            "Trainable params: 373,301\n",
            "Non-trainable params: 0\n",
            "_________________________________________________________________\n",
            "None\n"
          ],
          "name": "stdout"
        }
      ]
    },
    {
      "cell_type": "code",
      "metadata": {
        "colab": {
          "base_uri": "https://localhost:8080/"
        },
        "id": "MQZ9BRvUeCW8",
        "outputId": "82f74e8b-0bdc-401d-9d7c-b633f8627de0"
      },
      "source": [
        "scores = model.evaluate(x_test,y_test,verbose=1,batch_size=256)\n",
        "print(\"Accuracy:%.2f\" %(scores[1]*100))"
      ],
      "execution_count": null,
      "outputs": [
        {
          "output_type": "stream",
          "text": [
            "98/98 [==============================] - 54s 554ms/step - loss: 0.5858 - accuracy: 0.7038\n",
            "Accuracy:70.38\n"
          ],
          "name": "stdout"
        }
      ]
    },
    {
      "cell_type": "code",
      "metadata": {
        "colab": {
          "base_uri": "https://localhost:8080/"
        },
        "id": "IKhx1lEInB5O",
        "outputId": "17db9c56-202d-4a9b-99bf-4ec4d3b7dd0e"
      },
      "source": [
        "\n"
      ],
      "execution_count": null,
      "outputs": [
        {
          "output_type": "stream",
          "text": [
            "Accuracy:70.38\n"
          ],
          "name": "stdout"
        }
      ]
    }
  ]
}