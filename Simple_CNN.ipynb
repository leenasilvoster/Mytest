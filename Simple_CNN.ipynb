{
  "nbformat": 4,
  "nbformat_minor": 0,
  "metadata": {
    "colab": {
      "name": "Simple_CNN.ipynb",
      "provenance": [],
      "authorship_tag": "ABX9TyMQvvBKhr8KFuEtKU41sfq8",
      "include_colab_link": true
    },
    "kernelspec": {
      "name": "python3",
      "display_name": "Python 3"
    },
    "language_info": {
      "name": "python"
    }
  },
  "cells": [
    {
      "cell_type": "markdown",
      "metadata": {
        "id": "view-in-github",
        "colab_type": "text"
      },
      "source": [
        "<a href=\"https://colab.research.google.com/github/leenasilvoster/Mytest/blob/master/Simple_CNN.ipynb\" target=\"_parent\"><img src=\"https://colab.research.google.com/assets/colab-badge.svg\" alt=\"Open In Colab\"/></a>"
      ]
    },
    {
      "cell_type": "code",
      "metadata": {
        "id": "X_KhGx6zwhFH"
      },
      "source": [
        "import tensorflow as tf\n",
        "import keras\n",
        "from tensorflow.keras import layers\n",
        "import matplotlib.pyplot as plt"
      ],
      "execution_count": null,
      "outputs": []
    },
    {
      "cell_type": "code",
      "metadata": {
        "id": "BAaf4x9IxzfH"
      },
      "source": [
        "from sklearn.datasets import load_iris\n",
        "iris = load_iris()\n",
        "x = iris.data\n",
        "y = iris.target"
      ],
      "execution_count": null,
      "outputs": []
    },
    {
      "cell_type": "code",
      "metadata": {
        "id": "PS5gzd6jyXgR"
      },
      "source": [
        "from sklearn.model_selection import train_test_split\n",
        "xtrain,xtest,ytrain,ytest = train_test_split(x,y,train_size=0.7,random_state=42)"
      ],
      "execution_count": null,
      "outputs": []
    },
    {
      "cell_type": "code",
      "metadata": {
        "colab": {
          "base_uri": "https://localhost:8080/"
        },
        "id": "j4URn0jXw5ot",
        "outputId": "07f99ca4-3bd5-4ba6-a0b3-87524f8bb983"
      },
      "source": [
        "ML = keras.Sequential()\n",
        "xtrain.shape[1:]"
      ],
      "execution_count": null,
      "outputs": [
        {
          "output_type": "execute_result",
          "data": {
            "text/plain": [
              "(4,)"
            ]
          },
          "metadata": {
            "tags": []
          },
          "execution_count": 4
        }
      ]
    },
    {
      "cell_type": "code",
      "metadata": {
        "colab": {
          "base_uri": "https://localhost:8080/"
        },
        "id": "F89ihKXMxA0x",
        "outputId": "0d6632a3-7712-472d-b34e-450254692569"
      },
      "source": [
        "ML.add(keras.layers.Dense(units=5,activation='relu',input_shape=(xtrain.shape[1:])))\n",
        "ML.add(keras.layers.Dense(units=1,activation = 'sigmoid'))\n",
        "ML.summary()"
      ],
      "execution_count": null,
      "outputs": [
        {
          "output_type": "stream",
          "text": [
            "Model: \"sequential\"\n",
            "_________________________________________________________________\n",
            "Layer (type)                 Output Shape              Param #   \n",
            "=================================================================\n",
            "dense (Dense)                (None, 5)                 25        \n",
            "_________________________________________________________________\n",
            "dense_1 (Dense)              (None, 1)                 6         \n",
            "=================================================================\n",
            "Total params: 31\n",
            "Trainable params: 31\n",
            "Non-trainable params: 0\n",
            "_________________________________________________________________\n"
          ],
          "name": "stdout"
        }
      ]
    },
    {
      "cell_type": "code",
      "metadata": {
        "colab": {
          "base_uri": "https://localhost:8080/"
        },
        "id": "PTCM4obD0s0G",
        "outputId": "9b004bdd-b61a-4830-d7a9-97549886e1ec"
      },
      "source": [
        "#COMPILE\n",
        "#ML.compile(loss='sparse_categorical_crossentropy',optimizer= 'adam',metrics = ['sparse_categorical_accuracy'])\n",
        "ML.compile(loss='categorical_crossentropy', metrics=['accuracy'], optimizer='adam')\n",
        "#ML.compile(loss='binary_crossentropy',optimizer='adam',metrics=['accuracy'])\n",
        "#ML.fit(xtrain,ytrain,epochs = 50)\n",
        "seqModel = ML.fit(xtrain, ytrain,validation_split = 0.1, epochs=50, batch_size=4)\n",
        "print(seqModel.history)\n",
        "epochs          = 50"
      ],
      "execution_count": null,
      "outputs": [
        {
          "output_type": "stream",
          "text": [
            "Epoch 1/50\n",
            "24/24 [==============================] - 13s 19ms/step - loss: 0.0000e+00 - accuracy: 0.2457 - val_loss: 0.0000e+00 - val_accuracy: 0.1818\n",
            "Epoch 2/50\n",
            "24/24 [==============================] - 0s 2ms/step - loss: 0.0000e+00 - accuracy: 0.3323 - val_loss: 0.0000e+00 - val_accuracy: 0.1818\n",
            "Epoch 3/50\n",
            "24/24 [==============================] - 0s 2ms/step - loss: 0.0000e+00 - accuracy: 0.3309 - val_loss: 0.0000e+00 - val_accuracy: 0.1818\n",
            "Epoch 4/50\n",
            "24/24 [==============================] - 0s 2ms/step - loss: 0.0000e+00 - accuracy: 0.2964 - val_loss: 0.0000e+00 - val_accuracy: 0.1818\n",
            "Epoch 5/50\n",
            "24/24 [==============================] - 0s 2ms/step - loss: 0.0000e+00 - accuracy: 0.2955 - val_loss: 0.0000e+00 - val_accuracy: 0.1818\n",
            "Epoch 6/50\n",
            "24/24 [==============================] - 0s 2ms/step - loss: 0.0000e+00 - accuracy: 0.3070 - val_loss: 0.0000e+00 - val_accuracy: 0.1818\n",
            "Epoch 7/50\n",
            "24/24 [==============================] - 0s 2ms/step - loss: 0.0000e+00 - accuracy: 0.3887 - val_loss: 0.0000e+00 - val_accuracy: 0.1818\n",
            "Epoch 8/50\n",
            "24/24 [==============================] - 0s 2ms/step - loss: 0.0000e+00 - accuracy: 0.3337 - val_loss: 0.0000e+00 - val_accuracy: 0.1818\n",
            "Epoch 9/50\n",
            "24/24 [==============================] - 0s 2ms/step - loss: 0.0000e+00 - accuracy: 0.4167 - val_loss: 0.0000e+00 - val_accuracy: 0.1818\n",
            "Epoch 10/50\n",
            "24/24 [==============================] - 0s 2ms/step - loss: 0.0000e+00 - accuracy: 0.4610 - val_loss: 0.0000e+00 - val_accuracy: 0.3636\n",
            "Epoch 11/50\n",
            "24/24 [==============================] - 0s 3ms/step - loss: 0.0000e+00 - accuracy: 0.5317 - val_loss: 0.0000e+00 - val_accuracy: 0.5455\n",
            "Epoch 12/50\n",
            "24/24 [==============================] - 0s 2ms/step - loss: 0.0000e+00 - accuracy: 0.6881 - val_loss: 0.0000e+00 - val_accuracy: 0.5455\n",
            "Epoch 13/50\n",
            "24/24 [==============================] - 0s 2ms/step - loss: 0.0000e+00 - accuracy: 0.6291 - val_loss: 0.0000e+00 - val_accuracy: 0.5455\n",
            "Epoch 14/50\n",
            "24/24 [==============================] - 0s 2ms/step - loss: 0.0000e+00 - accuracy: 0.6410 - val_loss: 0.0000e+00 - val_accuracy: 0.5455\n",
            "Epoch 15/50\n",
            "24/24 [==============================] - 0s 2ms/step - loss: 0.0000e+00 - accuracy: 0.7167 - val_loss: 0.0000e+00 - val_accuracy: 0.5455\n",
            "Epoch 16/50\n",
            "24/24 [==============================] - 0s 2ms/step - loss: 0.0000e+00 - accuracy: 0.6442 - val_loss: 0.0000e+00 - val_accuracy: 0.5455\n",
            "Epoch 17/50\n",
            "24/24 [==============================] - 0s 1ms/step - loss: 0.0000e+00 - accuracy: 0.7121 - val_loss: 0.0000e+00 - val_accuracy: 0.5455\n",
            "Epoch 18/50\n",
            "24/24 [==============================] - 0s 2ms/step - loss: 0.0000e+00 - accuracy: 0.6879 - val_loss: 0.0000e+00 - val_accuracy: 0.5455\n",
            "Epoch 19/50\n",
            "24/24 [==============================] - 0s 2ms/step - loss: 0.0000e+00 - accuracy: 0.6862 - val_loss: 0.0000e+00 - val_accuracy: 0.5455\n",
            "Epoch 20/50\n",
            "24/24 [==============================] - 0s 2ms/step - loss: 0.0000e+00 - accuracy: 0.6529 - val_loss: 0.0000e+00 - val_accuracy: 0.5455\n",
            "Epoch 21/50\n",
            "24/24 [==============================] - 0s 2ms/step - loss: 0.0000e+00 - accuracy: 0.6466 - val_loss: 0.0000e+00 - val_accuracy: 0.5455\n",
            "Epoch 22/50\n",
            "24/24 [==============================] - 0s 2ms/step - loss: 0.0000e+00 - accuracy: 0.6288 - val_loss: 0.0000e+00 - val_accuracy: 0.5455\n",
            "Epoch 23/50\n",
            "24/24 [==============================] - 0s 2ms/step - loss: 0.0000e+00 - accuracy: 0.7231 - val_loss: 0.0000e+00 - val_accuracy: 0.5455\n",
            "Epoch 24/50\n",
            "24/24 [==============================] - 0s 2ms/step - loss: 0.0000e+00 - accuracy: 0.6225 - val_loss: 0.0000e+00 - val_accuracy: 0.5455\n",
            "Epoch 25/50\n",
            "24/24 [==============================] - 0s 2ms/step - loss: 0.0000e+00 - accuracy: 0.6561 - val_loss: 0.0000e+00 - val_accuracy: 0.5455\n",
            "Epoch 26/50\n",
            "24/24 [==============================] - 0s 2ms/step - loss: 0.0000e+00 - accuracy: 0.6845 - val_loss: 0.0000e+00 - val_accuracy: 0.5455\n",
            "Epoch 27/50\n",
            "24/24 [==============================] - 0s 2ms/step - loss: 0.0000e+00 - accuracy: 0.7396 - val_loss: 0.0000e+00 - val_accuracy: 0.5455\n",
            "Epoch 28/50\n",
            "24/24 [==============================] - 0s 2ms/step - loss: 0.0000e+00 - accuracy: 0.6165 - val_loss: 0.0000e+00 - val_accuracy: 0.5455\n",
            "Epoch 29/50\n",
            "24/24 [==============================] - 0s 2ms/step - loss: 0.0000e+00 - accuracy: 0.6223 - val_loss: 0.0000e+00 - val_accuracy: 0.5455\n",
            "Epoch 30/50\n",
            "24/24 [==============================] - 0s 2ms/step - loss: 0.0000e+00 - accuracy: 0.7046 - val_loss: 0.0000e+00 - val_accuracy: 0.5455\n",
            "Epoch 31/50\n",
            "24/24 [==============================] - 0s 2ms/step - loss: 0.0000e+00 - accuracy: 0.6978 - val_loss: 0.0000e+00 - val_accuracy: 0.5455\n",
            "Epoch 32/50\n",
            "24/24 [==============================] - 0s 2ms/step - loss: 0.0000e+00 - accuracy: 0.6553 - val_loss: 0.0000e+00 - val_accuracy: 0.5455\n",
            "Epoch 33/50\n",
            "24/24 [==============================] - 0s 2ms/step - loss: 0.0000e+00 - accuracy: 0.6503 - val_loss: 0.0000e+00 - val_accuracy: 0.5455\n",
            "Epoch 34/50\n",
            "24/24 [==============================] - 0s 2ms/step - loss: 0.0000e+00 - accuracy: 0.6369 - val_loss: 0.0000e+00 - val_accuracy: 0.5455\n",
            "Epoch 35/50\n",
            "24/24 [==============================] - 0s 2ms/step - loss: 0.0000e+00 - accuracy: 0.6506 - val_loss: 0.0000e+00 - val_accuracy: 0.5455\n",
            "Epoch 36/50\n",
            "24/24 [==============================] - 0s 2ms/step - loss: 0.0000e+00 - accuracy: 0.6118 - val_loss: 0.0000e+00 - val_accuracy: 0.5455\n",
            "Epoch 37/50\n",
            "24/24 [==============================] - 0s 2ms/step - loss: 0.0000e+00 - accuracy: 0.6021 - val_loss: 0.0000e+00 - val_accuracy: 0.5455\n",
            "Epoch 38/50\n",
            "24/24 [==============================] - 0s 2ms/step - loss: 0.0000e+00 - accuracy: 0.6381 - val_loss: 0.0000e+00 - val_accuracy: 0.5455\n",
            "Epoch 39/50\n",
            "24/24 [==============================] - 0s 2ms/step - loss: 0.0000e+00 - accuracy: 0.6547 - val_loss: 0.0000e+00 - val_accuracy: 0.5455\n",
            "Epoch 40/50\n",
            "24/24 [==============================] - 0s 2ms/step - loss: 0.0000e+00 - accuracy: 0.5887 - val_loss: 0.0000e+00 - val_accuracy: 0.5455\n",
            "Epoch 41/50\n",
            "24/24 [==============================] - 0s 2ms/step - loss: 0.0000e+00 - accuracy: 0.5939 - val_loss: 0.0000e+00 - val_accuracy: 0.5455\n",
            "Epoch 42/50\n",
            "24/24 [==============================] - 0s 2ms/step - loss: 0.0000e+00 - accuracy: 0.5688 - val_loss: 0.0000e+00 - val_accuracy: 0.5455\n",
            "Epoch 43/50\n",
            "24/24 [==============================] - 0s 2ms/step - loss: 0.0000e+00 - accuracy: 0.6508 - val_loss: 0.0000e+00 - val_accuracy: 0.5455\n",
            "Epoch 44/50\n",
            "24/24 [==============================] - 0s 2ms/step - loss: 0.0000e+00 - accuracy: 0.7196 - val_loss: 0.0000e+00 - val_accuracy: 0.5455\n",
            "Epoch 45/50\n",
            "24/24 [==============================] - 0s 2ms/step - loss: 0.0000e+00 - accuracy: 0.6907 - val_loss: 0.0000e+00 - val_accuracy: 0.5455\n",
            "Epoch 46/50\n",
            "24/24 [==============================] - 0s 2ms/step - loss: 0.0000e+00 - accuracy: 0.6821 - val_loss: 0.0000e+00 - val_accuracy: 0.5455\n",
            "Epoch 47/50\n",
            "24/24 [==============================] - 0s 2ms/step - loss: 0.0000e+00 - accuracy: 0.6245 - val_loss: 0.0000e+00 - val_accuracy: 0.5455\n",
            "Epoch 48/50\n",
            "24/24 [==============================] - 0s 2ms/step - loss: 0.0000e+00 - accuracy: 0.6575 - val_loss: 0.0000e+00 - val_accuracy: 0.5455\n",
            "Epoch 49/50\n",
            "24/24 [==============================] - 0s 1ms/step - loss: 0.0000e+00 - accuracy: 0.6705 - val_loss: 0.0000e+00 - val_accuracy: 0.5455\n",
            "Epoch 50/50\n",
            "24/24 [==============================] - 0s 2ms/step - loss: 0.0000e+00 - accuracy: 0.6382 - val_loss: 0.0000e+00 - val_accuracy: 0.5455\n",
            "{'loss': [0.0, 0.0, 0.0, 0.0, 0.0, 0.0, 0.0, 0.0, 0.0, 0.0, 0.0, 0.0, 0.0, 0.0, 0.0, 0.0, 0.0, 0.0, 0.0, 0.0, 0.0, 0.0, 0.0, 0.0, 0.0, 0.0, 0.0, 0.0, 0.0, 0.0, 0.0, 0.0, 0.0, 0.0, 0.0, 0.0, 0.0, 0.0, 0.0, 0.0, 0.0, 0.0, 0.0, 0.0, 0.0, 0.0, 0.0, 0.0, 0.0, 0.0], 'accuracy': [0.3085106313228607, 0.3085106313228607, 0.3085106313228607, 0.3085106313228607, 0.3085106313228607, 0.3085106313228607, 0.3085106313228607, 0.3085106313228607, 0.3191489279270172, 0.457446813583374, 0.6170212626457214, 0.6595744490623474, 0.6595744490623474, 0.6595744490623474, 0.6595744490623474, 0.6595744490623474, 0.6595744490623474, 0.6595744490623474, 0.6595744490623474, 0.6595744490623474, 0.6595744490623474, 0.6595744490623474, 0.6595744490623474, 0.6595744490623474, 0.6595744490623474, 0.6595744490623474, 0.6595744490623474, 0.6382978558540344, 0.6382978558540344, 0.6382978558540344, 0.6489361524581909, 0.6382978558540344, 0.6382978558540344, 0.6382978558540344, 0.6382978558540344, 0.6382978558540344, 0.6382978558540344, 0.6382978558540344, 0.6382978558540344, 0.6382978558540344, 0.6382978558540344, 0.6382978558540344, 0.6489361524581909, 0.6595744490623474, 0.6595744490623474, 0.6595744490623474, 0.6595744490623474, 0.6595744490623474, 0.6595744490623474, 0.6595744490623474], 'val_loss': [0.0, 0.0, 0.0, 0.0, 0.0, 0.0, 0.0, 0.0, 0.0, 0.0, 0.0, 0.0, 0.0, 0.0, 0.0, 0.0, 0.0, 0.0, 0.0, 0.0, 0.0, 0.0, 0.0, 0.0, 0.0, 0.0, 0.0, 0.0, 0.0, 0.0, 0.0, 0.0, 0.0, 0.0, 0.0, 0.0, 0.0, 0.0, 0.0, 0.0, 0.0, 0.0, 0.0, 0.0, 0.0, 0.0, 0.0, 0.0, 0.0, 0.0], 'val_accuracy': [0.1818181872367859, 0.1818181872367859, 0.1818181872367859, 0.1818181872367859, 0.1818181872367859, 0.1818181872367859, 0.1818181872367859, 0.1818181872367859, 0.1818181872367859, 0.3636363744735718, 0.5454545617103577, 0.5454545617103577, 0.5454545617103577, 0.5454545617103577, 0.5454545617103577, 0.5454545617103577, 0.5454545617103577, 0.5454545617103577, 0.5454545617103577, 0.5454545617103577, 0.5454545617103577, 0.5454545617103577, 0.5454545617103577, 0.5454545617103577, 0.5454545617103577, 0.5454545617103577, 0.5454545617103577, 0.5454545617103577, 0.5454545617103577, 0.5454545617103577, 0.5454545617103577, 0.5454545617103577, 0.5454545617103577, 0.5454545617103577, 0.5454545617103577, 0.5454545617103577, 0.5454545617103577, 0.5454545617103577, 0.5454545617103577, 0.5454545617103577, 0.5454545617103577, 0.5454545617103577, 0.5454545617103577, 0.5454545617103577, 0.5454545617103577, 0.5454545617103577, 0.5454545617103577, 0.5454545617103577, 0.5454545617103577, 0.5454545617103577]}\n"
          ],
          "name": "stdout"
        }
      ]
    },
    {
      "cell_type": "code",
      "metadata": {
        "colab": {
          "base_uri": "https://localhost:8080/",
          "height": 295
        },
        "id": "tAY7jmnKpFEA",
        "outputId": "8783a623-0339-44cd-9b38-9e292faa041e"
      },
      "source": [
        "plt.plot(seqModel.history['accuracy'])\n",
        "plt.plot(seqModel.history['val_accuracy'])\n",
        "plt.title('model accuracy')\n",
        "plt.ylabel('accuracy')\n",
        "plt.xlabel('epoch')\n",
        "plt.legend(['train', 'val'], loc='upper left')\n",
        "plt.show()"
      ],
      "execution_count": null,
      "outputs": [
        {
          "output_type": "display_data",
          "data": {
            "image/png": "[encoded data removed]",
            "text/plain": [
              "<Figure size 432x288 with 1 Axes>"
            ]
          },
          "metadata": {
            "tags": [],
            "needs_background": "light"
          }
        }
      ]
    },
    {
      "cell_type": "code",
      "metadata": {
        "colab": {
          "base_uri": "https://localhost:8080/",
          "height": 283
        },
        "id": "mhMeSHBlp2y8",
        "outputId": "7cfe3f23-bdc3-4770-ff75-a90e64903744"
      },
      "source": [
        "# visualizing losses and accuracy\n",
        "train_loss = seqModel.history['loss']\n",
        "val_loss   = seqModel.history['val_loss']\n",
        "train_acc  = seqModel.history['accuracy']\n",
        "val_acc    = seqModel.history['val_accuracy']\n",
        "xc         = range(epochs)\n",
        "\n",
        "plt.figure()\n",
        "plt.plot(xc, train_loss)\n",
        "plt.plot(xc, val_loss)"
      ],
      "execution_count": null,
      "outputs": [
        {
          "output_type": "execute_result",
          "data": {
            "text/plain": [
              "[<matplotlib.lines.Line2D at 0x7fdc63129f90>]"
            ]
          },
          "metadata": {
            "tags": []
          },
          "execution_count": 8
        },
        {
          "output_type": "display_data",
          "data": {
            "image/png": "[encoded data removed]",
            "text/plain": [
              "<Figure size 432x288 with 1 Axes>"
            ]
          },
          "metadata": {
            "tags": [],
            "needs_background": "light"
          }
        }
      ]
    },
    {
      "cell_type": "code",
      "metadata": {
        "colab": {
          "base_uri": "https://localhost:8080/",
          "height": 295
        },
        "id": "X4ojWdC8j5n_",
        "outputId": "ec019074-2fd1-4f8a-bdc4-151c71db0625"
      },
      "source": [
        "plt.plot(seqModel.history['loss'])\n",
        "plt.plot(seqModel.history['val_loss'])\n",
        "plt.title('model loss')\n",
        "plt.ylabel('loss')\n",
        "plt.xlabel('epoch')\n",
        "plt.legend(['train', 'val'], loc='upper left')\n",
        "plt.show()"
      ],
      "execution_count": null,
      "outputs": [
        {
          "output_type": "display_data",
          "data": {
            "image/png": "[encoded data removed]",
            "text/plain": [
              "<Figure size 432x288 with 1 Axes>"
            ]
          },
          "metadata": {
            "tags": [],
            "needs_background": "light"
          }
        }
      ]
    },
    {
      "cell_type": "code",
      "metadata": {
        "colab": {
          "base_uri": "https://localhost:8080/",
          "height": 320
        },
        "id": "4E7dzNHLqCJ5",
        "outputId": "38a639e0-92e7-44cd-e195-5f5f6db072f0"
      },
      "source": [
        "import pandas as pd\n",
        "pd.DataFrame(seqModel.history).plot(figsize=(8,5))\n",
        "plt.show()"
      ],
      "execution_count": null,
      "outputs": [
        {
          "output_type": "display_data",
          "data": {
            "image/png": "[encoded data removed]",
            "text/plain": [
              "<Figure size 576x360 with 1 Axes>"
            ]
          },
          "metadata": {
            "tags": [],
            "needs_background": "light"
          }
        }
      ]
    },
    {
      "cell_type": "code",
      "metadata": {
        "colab": {
          "base_uri": "https://localhost:8080/"
        },
        "id": "9URSo0GV8Xpl",
        "outputId": "47a031cf-b549-409f-e675-8e4ee11d8233"
      },
      "source": [
        "test_loss,test_accuracy =ML.evaluate(xtest,ytest)"
      ],
      "execution_count": null,
      "outputs": [
        {
          "output_type": "stream",
          "text": [
            "2/2 [==============================] - 0s 6ms/step - loss: 0.0000e+00 - accuracy: 0.7111\n"
          ],
          "name": "stdout"
        }
      ]
    },
    {
      "cell_type": "code",
      "metadata": {
        "colab": {
          "base_uri": "https://localhost:8080/"
        },
        "id": "oLvyg9h7Z_GK",
        "outputId": "dc2fd064-d041-4417-fd5b-1bbce5cfc249"
      },
      "source": [
        "print(\"Accuracy:%.2f\" %test_accuracy*100)"
      ],
      "execution_count": null,
      "outputs": [
        {
          "output_type": "stream",
          "text": [
            "Accuracy:0.71Accuracy:0.71Accuracy:0.71Accuracy:0.71Accuracy:0.71Accuracy:0.71Accuracy:0.71Accuracy:0.71Accuracy:0.71Accuracy:0.71Accuracy:0.71Accuracy:0.71Accuracy:0.71Accuracy:0.71Accuracy:0.71Accuracy:0.71Accuracy:0.71Accuracy:0.71Accuracy:0.71Accuracy:0.71Accuracy:0.71Accuracy:0.71Accuracy:0.71Accuracy:0.71Accuracy:0.71Accuracy:0.71Accuracy:0.71Accuracy:0.71Accuracy:0.71Accuracy:0.71Accuracy:0.71Accuracy:0.71Accuracy:0.71Accuracy:0.71Accuracy:0.71Accuracy:0.71Accuracy:0.71Accuracy:0.71Accuracy:0.71Accuracy:0.71Accuracy:0.71Accuracy:0.71Accuracy:0.71Accuracy:0.71Accuracy:0.71Accuracy:0.71Accuracy:0.71Accuracy:0.71Accuracy:0.71Accuracy:0.71Accuracy:0.71Accuracy:0.71Accuracy:0.71Accuracy:0.71Accuracy:0.71Accuracy:0.71Accuracy:0.71Accuracy:0.71Accuracy:0.71Accuracy:0.71Accuracy:0.71Accuracy:0.71Accuracy:0.71Accuracy:0.71Accuracy:0.71Accuracy:0.71Accuracy:0.71Accuracy:0.71Accuracy:0.71Accuracy:0.71Accuracy:0.71Accuracy:0.71Accuracy:0.71Accuracy:0.71Accuracy:0.71Accuracy:0.71Accuracy:0.71Accuracy:0.71Accuracy:0.71Accuracy:0.71Accuracy:0.71Accuracy:0.71Accuracy:0.71Accuracy:0.71Accuracy:0.71Accuracy:0.71Accuracy:0.71Accuracy:0.71Accuracy:0.71Accuracy:0.71Accuracy:0.71Accuracy:0.71Accuracy:0.71Accuracy:0.71Accuracy:0.71Accuracy:0.71Accuracy:0.71Accuracy:0.71Accuracy:0.71Accuracy:0.71\n"
          ],
          "name": "stdout"
        }
      ]
    },
    {
      "cell_type": "code",
      "metadata": {
        "id": "Hjj7JeBNkwX2"
      },
      "source": [
        "import numpy as np\n",
        "#Saving:\n",
        "np.save('my_history.npy',seqModel.history)\n",
        "#Loading:\n",
        "history=np.load('my_history.npy',allow_pickle='TRUE').item()"
      ],
      "execution_count": null,
      "outputs": []
    },
    {
      "cell_type": "code",
      "metadata": {
        "id": "0TSoEDn2ls0R",
        "colab": {
          "base_uri": "https://localhost:8080/"
        },
        "outputId": "e7fc71ec-0ac6-4a25-e6bd-79024bb721c7"
      },
      "source": [
        "from sklearn.metrics import classification_report\n",
        "\n",
        "y_pred = ML.predict(xtest, batch_size=64, verbose=1)\n",
        "y_pred_bool = np.argmax(y_pred, axis=1)\n",
        "\n",
        "print(classification_report(ytest, y_pred_bool))"
      ],
      "execution_count": null,
      "outputs": [
        {
          "output_type": "stream",
          "text": [
            "1/1 [==============================] - 0s 286ms/step\n",
            "              precision    recall  f1-score   support\n",
            "\n",
            "           0       0.42      1.00      0.59        19\n",
            "           1       0.00      0.00      0.00        13\n",
            "           2       0.00      0.00      0.00        13\n",
            "\n",
            "    accuracy                           0.42        45\n",
            "   macro avg       0.14      0.33      0.20        45\n",
            "weighted avg       0.18      0.42      0.25        45\n",
            "\n"
          ],
          "name": "stdout"
        },
        {
          "output_type": "stream",
          "text": [
            "/usr/local/lib/python3.7/dist-packages/sklearn/metrics/_classification.py:1272: UndefinedMetricWarning: Precision and F-score are ill-defined and being set to 0.0 in labels with no predicted samples. Use `zero_division` parameter to control this behavior.\n",
            "  _warn_prf(average, modifier, msg_start, len(result))\n"
          ],
          "name": "stderr"
        }
      ]
    },
    {
      "cell_type": "code",
      "metadata": {
        "id": "nFM_QaVXettX"
      },
      "source": [
        "from sklearn.metrics import confusion_matrix\n",
        "\n",
        "Y_pred = model.predict_generator(validation_generator, nb_validation_samples // \n",
        "batch_size+1)\n",
        "y_pred = np.argmax(Y_pred, axis=1)\n",
        "\n",
        "print('Confusion Matrix')\n",
        "print(confusion_matrix(validation_generator.classes, y_pred))"
      ],
      "execution_count": null,
      "outputs": []
    },
    {
      "cell_type": "code",
      "metadata": {
        "colab": {
          "base_uri": "https://localhost:8080/"
        },
        "id": "50ZQC_Sue8e3",
        "outputId": "0fa410f2-5e08-4f27-a4c5-f74ffd160b69"
      },
      "source": [
        "import sklearn.metrics as metrics\n",
        "\n",
        "y_pred_ohe = ML.predict(xtest, batch_size=64, verbose=1)\n",
        "y_pred_labels = np.argmax(y_pred_ohe, axis=1)  # only necessary if output has one-hot-encoding, shape=(n_samples)\n",
        "\n",
        "confusion_matrix = metrics.confusion_matrix(y_true=ytest, y_pred=y_pred_labels)  # shape=(12, 12)"
      ],
      "execution_count": null,
      "outputs": [
        {
          "output_type": "stream",
          "text": [
            "1/1 [==============================] - 0s 15ms/step\n"
          ],
          "name": "stdout"
        }
      ]
    },
    {
      "cell_type": "code",
      "metadata": {
        "colab": {
          "base_uri": "https://localhost:8080/"
        },
        "id": "HrS94sJ7f2GS",
        "outputId": "d4a77771-30f0-44f9-e257-b02dca7c4859"
      },
      "source": [
        "print(confusion_matrix)"
      ],
      "execution_count": null,
      "outputs": [
        {
          "output_type": "stream",
          "text": [
            "[[19  0  0]\n",
            " [13  0  0]\n",
            " [13  0  0]]\n"
          ],
          "name": "stdout"
        }
      ]
    },
    {
      "cell_type": "code",
      "metadata": {
        "id": "hLg9elahbOZ-"
      },
      "source": [
        ""
      ],
      "execution_count": null,
      "outputs": []
    }
  ]
}